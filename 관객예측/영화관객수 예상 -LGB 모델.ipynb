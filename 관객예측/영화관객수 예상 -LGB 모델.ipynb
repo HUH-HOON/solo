{
 "cells": [
  {
   "cell_type": "code",
   "execution_count": 1,
   "metadata": {},
   "outputs": [],
   "source": [
    "import pandas as pd\n",
    "import lightgbm as lgb"
   ]
  },
  {
   "cell_type": "code",
   "execution_count": 2,
   "metadata": {},
   "outputs": [],
   "source": [
    "# 데이터 불러오기\n",
    "\n",
    "train = pd.read_csv('C:/data/관객수 예측/movies_train.csv') # 학습 파일\n",
    "test = pd.read_csv('C:/data/관객수 예측/movies_test.csv') # 시험지 파일\n",
    "submission = pd.read_csv('C:/data/관객수 예측/submission.csv')#정답지"
   ]
  },
  {
   "cell_type": "markdown",
   "metadata": {},
   "source": [
    "# 탐색적 자료분석"
   ]
  },
  {
   "cell_type": "code",
   "execution_count": 3,
   "metadata": {},
   "outputs": [
    {
     "data": {
      "text/html": [
       "<div>\n",
       "<style scoped>\n",
       "    .dataframe tbody tr th:only-of-type {\n",
       "        vertical-align: middle;\n",
       "    }\n",
       "\n",
       "    .dataframe tbody tr th {\n",
       "        vertical-align: top;\n",
       "    }\n",
       "\n",
       "    .dataframe thead th {\n",
       "        text-align: right;\n",
       "    }\n",
       "</style>\n",
       "<table border=\"1\" class=\"dataframe\">\n",
       "  <thead>\n",
       "    <tr style=\"text-align: right;\">\n",
       "      <th></th>\n",
       "      <th>title</th>\n",
       "      <th>distributor</th>\n",
       "      <th>genre</th>\n",
       "      <th>release_time</th>\n",
       "      <th>time</th>\n",
       "      <th>screening_rat</th>\n",
       "      <th>director</th>\n",
       "      <th>dir_prev_bfnum</th>\n",
       "      <th>dir_prev_num</th>\n",
       "      <th>num_staff</th>\n",
       "      <th>num_actor</th>\n",
       "      <th>box_off_num</th>\n",
       "    </tr>\n",
       "  </thead>\n",
       "  <tbody>\n",
       "    <tr>\n",
       "      <th>0</th>\n",
       "      <td>개들의 전쟁</td>\n",
       "      <td>롯데엔터테인먼트</td>\n",
       "      <td>액션</td>\n",
       "      <td>2012-11-22</td>\n",
       "      <td>96</td>\n",
       "      <td>청소년 관람불가</td>\n",
       "      <td>조병옥</td>\n",
       "      <td>NaN</td>\n",
       "      <td>0</td>\n",
       "      <td>91</td>\n",
       "      <td>2</td>\n",
       "      <td>23398</td>\n",
       "    </tr>\n",
       "    <tr>\n",
       "      <th>1</th>\n",
       "      <td>내부자들</td>\n",
       "      <td>(주)쇼박스</td>\n",
       "      <td>느와르</td>\n",
       "      <td>2015-11-19</td>\n",
       "      <td>130</td>\n",
       "      <td>청소년 관람불가</td>\n",
       "      <td>우민호</td>\n",
       "      <td>1161602.50</td>\n",
       "      <td>2</td>\n",
       "      <td>387</td>\n",
       "      <td>3</td>\n",
       "      <td>7072501</td>\n",
       "    </tr>\n",
       "    <tr>\n",
       "      <th>2</th>\n",
       "      <td>은밀하게 위대하게</td>\n",
       "      <td>(주)쇼박스</td>\n",
       "      <td>액션</td>\n",
       "      <td>2013-06-05</td>\n",
       "      <td>123</td>\n",
       "      <td>15세 관람가</td>\n",
       "      <td>장철수</td>\n",
       "      <td>220775.25</td>\n",
       "      <td>4</td>\n",
       "      <td>343</td>\n",
       "      <td>4</td>\n",
       "      <td>6959083</td>\n",
       "    </tr>\n",
       "    <tr>\n",
       "      <th>3</th>\n",
       "      <td>나는 공무원이다</td>\n",
       "      <td>(주)NEW</td>\n",
       "      <td>코미디</td>\n",
       "      <td>2012-07-12</td>\n",
       "      <td>101</td>\n",
       "      <td>전체 관람가</td>\n",
       "      <td>구자홍</td>\n",
       "      <td>23894.00</td>\n",
       "      <td>2</td>\n",
       "      <td>20</td>\n",
       "      <td>6</td>\n",
       "      <td>217866</td>\n",
       "    </tr>\n",
       "    <tr>\n",
       "      <th>4</th>\n",
       "      <td>불량남녀</td>\n",
       "      <td>쇼박스(주)미디어플렉스</td>\n",
       "      <td>코미디</td>\n",
       "      <td>2010-11-04</td>\n",
       "      <td>108</td>\n",
       "      <td>15세 관람가</td>\n",
       "      <td>신근호</td>\n",
       "      <td>1.00</td>\n",
       "      <td>1</td>\n",
       "      <td>251</td>\n",
       "      <td>2</td>\n",
       "      <td>483387</td>\n",
       "    </tr>\n",
       "  </tbody>\n",
       "</table>\n",
       "</div>"
      ],
      "text/plain": [
       "       title   distributor genre release_time  time screening_rat director  \\\n",
       "0     개들의 전쟁      롯데엔터테인먼트    액션   2012-11-22    96      청소년 관람불가      조병옥   \n",
       "1       내부자들        (주)쇼박스   느와르   2015-11-19   130      청소년 관람불가      우민호   \n",
       "2  은밀하게 위대하게        (주)쇼박스    액션   2013-06-05   123       15세 관람가      장철수   \n",
       "3   나는 공무원이다        (주)NEW   코미디   2012-07-12   101        전체 관람가      구자홍   \n",
       "4       불량남녀  쇼박스(주)미디어플렉스   코미디   2010-11-04   108       15세 관람가      신근호   \n",
       "\n",
       "   dir_prev_bfnum  dir_prev_num  num_staff  num_actor  box_off_num  \n",
       "0             NaN             0         91          2        23398  \n",
       "1      1161602.50             2        387          3      7072501  \n",
       "2       220775.25             4        343          4      6959083  \n",
       "3        23894.00             2         20          6       217866  \n",
       "4            1.00             1        251          2       483387  "
      ]
     },
     "execution_count": 3,
     "metadata": {},
     "output_type": "execute_result"
    }
   ],
   "source": [
    "train.head()"
   ]
  },
  {
   "cell_type": "code",
   "execution_count": 4,
   "metadata": {},
   "outputs": [
    {
     "data": {
      "text/html": [
       "<div>\n",
       "<style scoped>\n",
       "    .dataframe tbody tr th:only-of-type {\n",
       "        vertical-align: middle;\n",
       "    }\n",
       "\n",
       "    .dataframe tbody tr th {\n",
       "        vertical-align: top;\n",
       "    }\n",
       "\n",
       "    .dataframe thead th {\n",
       "        text-align: right;\n",
       "    }\n",
       "</style>\n",
       "<table border=\"1\" class=\"dataframe\">\n",
       "  <thead>\n",
       "    <tr style=\"text-align: right;\">\n",
       "      <th></th>\n",
       "      <th>title</th>\n",
       "      <th>box_off_num</th>\n",
       "    </tr>\n",
       "  </thead>\n",
       "  <tbody>\n",
       "    <tr>\n",
       "      <th>0</th>\n",
       "      <td>용서는 없다</td>\n",
       "      <td>0</td>\n",
       "    </tr>\n",
       "    <tr>\n",
       "      <th>1</th>\n",
       "      <td>아빠가 여자를 좋아해</td>\n",
       "      <td>0</td>\n",
       "    </tr>\n",
       "    <tr>\n",
       "      <th>2</th>\n",
       "      <td>하모니</td>\n",
       "      <td>0</td>\n",
       "    </tr>\n",
       "    <tr>\n",
       "      <th>3</th>\n",
       "      <td>의형제</td>\n",
       "      <td>0</td>\n",
       "    </tr>\n",
       "    <tr>\n",
       "      <th>4</th>\n",
       "      <td>평행 이론</td>\n",
       "      <td>0</td>\n",
       "    </tr>\n",
       "  </tbody>\n",
       "</table>\n",
       "</div>"
      ],
      "text/plain": [
       "         title  box_off_num\n",
       "0       용서는 없다            0\n",
       "1  아빠가 여자를 좋아해            0\n",
       "2          하모니            0\n",
       "3          의형제            0\n",
       "4        평행 이론            0"
      ]
     },
     "execution_count": 4,
     "metadata": {},
     "output_type": "execute_result"
    }
   ],
   "source": [
    "submission.head()"
   ]
  },
  {
   "cell_type": "code",
   "execution_count": 5,
   "metadata": {},
   "outputs": [
    {
     "name": "stdout",
     "output_type": "stream",
     "text": [
      "(600, 12)\n",
      "(243, 11)\n",
      "(243, 2)\n"
     ]
    }
   ],
   "source": [
    "print(train.shape)\n",
    "print(test.shape)\n",
    "print(submission.shape)"
   ]
  },
  {
   "cell_type": "code",
   "execution_count": 6,
   "metadata": {
    "scrolled": true
   },
   "outputs": [
    {
     "name": "stdout",
     "output_type": "stream",
     "text": [
      "<class 'pandas.core.frame.DataFrame'>\n",
      "RangeIndex: 600 entries, 0 to 599\n",
      "Data columns (total 12 columns):\n",
      " #   Column          Non-Null Count  Dtype  \n",
      "---  ------          --------------  -----  \n",
      " 0   title           600 non-null    object \n",
      " 1   distributor     600 non-null    object \n",
      " 2   genre           600 non-null    object \n",
      " 3   release_time    600 non-null    object \n",
      " 4   time            600 non-null    int64  \n",
      " 5   screening_rat   600 non-null    object \n",
      " 6   director        600 non-null    object \n",
      " 7   dir_prev_bfnum  270 non-null    float64\n",
      " 8   dir_prev_num    600 non-null    int64  \n",
      " 9   num_staff       600 non-null    int64  \n",
      " 10  num_actor       600 non-null    int64  \n",
      " 11  box_off_num     600 non-null    int64  \n",
      "dtypes: float64(1), int64(5), object(6)\n",
      "memory usage: 56.4+ KB\n"
     ]
    }
   ],
   "source": [
    "train.info()"
   ]
  },
  {
   "cell_type": "code",
   "execution_count": 7,
   "metadata": {},
   "outputs": [
    {
     "data": {
      "text/html": [
       "<div>\n",
       "<style scoped>\n",
       "    .dataframe tbody tr th:only-of-type {\n",
       "        vertical-align: middle;\n",
       "    }\n",
       "\n",
       "    .dataframe tbody tr th {\n",
       "        vertical-align: top;\n",
       "    }\n",
       "\n",
       "    .dataframe thead th {\n",
       "        text-align: right;\n",
       "    }\n",
       "</style>\n",
       "<table border=\"1\" class=\"dataframe\">\n",
       "  <thead>\n",
       "    <tr style=\"text-align: right;\">\n",
       "      <th></th>\n",
       "      <th>time</th>\n",
       "      <th>dir_prev_bfnum</th>\n",
       "      <th>dir_prev_num</th>\n",
       "      <th>num_staff</th>\n",
       "      <th>num_actor</th>\n",
       "      <th>box_off_num</th>\n",
       "    </tr>\n",
       "  </thead>\n",
       "  <tbody>\n",
       "    <tr>\n",
       "      <th>count</th>\n",
       "      <td>600.000000</td>\n",
       "      <td>2.700000e+02</td>\n",
       "      <td>600.000000</td>\n",
       "      <td>600.000000</td>\n",
       "      <td>600.000000</td>\n",
       "      <td>6.000000e+02</td>\n",
       "    </tr>\n",
       "    <tr>\n",
       "      <th>mean</th>\n",
       "      <td>100.863333</td>\n",
       "      <td>1.050443e+06</td>\n",
       "      <td>0.876667</td>\n",
       "      <td>151.118333</td>\n",
       "      <td>3.706667</td>\n",
       "      <td>7.081818e+05</td>\n",
       "    </tr>\n",
       "    <tr>\n",
       "      <th>std</th>\n",
       "      <td>18.097528</td>\n",
       "      <td>1.791408e+06</td>\n",
       "      <td>1.183409</td>\n",
       "      <td>165.654671</td>\n",
       "      <td>2.446889</td>\n",
       "      <td>1.828006e+06</td>\n",
       "    </tr>\n",
       "    <tr>\n",
       "      <th>min</th>\n",
       "      <td>45.000000</td>\n",
       "      <td>1.000000e+00</td>\n",
       "      <td>0.000000</td>\n",
       "      <td>0.000000</td>\n",
       "      <td>0.000000</td>\n",
       "      <td>1.000000e+00</td>\n",
       "    </tr>\n",
       "    <tr>\n",
       "      <th>25%</th>\n",
       "      <td>89.000000</td>\n",
       "      <td>2.038000e+04</td>\n",
       "      <td>0.000000</td>\n",
       "      <td>17.000000</td>\n",
       "      <td>2.000000</td>\n",
       "      <td>1.297250e+03</td>\n",
       "    </tr>\n",
       "    <tr>\n",
       "      <th>50%</th>\n",
       "      <td>100.000000</td>\n",
       "      <td>4.784236e+05</td>\n",
       "      <td>0.000000</td>\n",
       "      <td>82.500000</td>\n",
       "      <td>3.000000</td>\n",
       "      <td>1.259100e+04</td>\n",
       "    </tr>\n",
       "    <tr>\n",
       "      <th>75%</th>\n",
       "      <td>114.000000</td>\n",
       "      <td>1.286569e+06</td>\n",
       "      <td>2.000000</td>\n",
       "      <td>264.000000</td>\n",
       "      <td>4.000000</td>\n",
       "      <td>4.798868e+05</td>\n",
       "    </tr>\n",
       "    <tr>\n",
       "      <th>max</th>\n",
       "      <td>180.000000</td>\n",
       "      <td>1.761531e+07</td>\n",
       "      <td>5.000000</td>\n",
       "      <td>869.000000</td>\n",
       "      <td>25.000000</td>\n",
       "      <td>1.426277e+07</td>\n",
       "    </tr>\n",
       "  </tbody>\n",
       "</table>\n",
       "</div>"
      ],
      "text/plain": [
       "             time  dir_prev_bfnum  dir_prev_num   num_staff   num_actor  \\\n",
       "count  600.000000    2.700000e+02    600.000000  600.000000  600.000000   \n",
       "mean   100.863333    1.050443e+06      0.876667  151.118333    3.706667   \n",
       "std     18.097528    1.791408e+06      1.183409  165.654671    2.446889   \n",
       "min     45.000000    1.000000e+00      0.000000    0.000000    0.000000   \n",
       "25%     89.000000    2.038000e+04      0.000000   17.000000    2.000000   \n",
       "50%    100.000000    4.784236e+05      0.000000   82.500000    3.000000   \n",
       "75%    114.000000    1.286569e+06      2.000000  264.000000    4.000000   \n",
       "max    180.000000    1.761531e+07      5.000000  869.000000   25.000000   \n",
       "\n",
       "        box_off_num  \n",
       "count  6.000000e+02  \n",
       "mean   7.081818e+05  \n",
       "std    1.828006e+06  \n",
       "min    1.000000e+00  \n",
       "25%    1.297250e+03  \n",
       "50%    1.259100e+04  \n",
       "75%    4.798868e+05  \n",
       "max    1.426277e+07  "
      ]
     },
     "execution_count": 7,
     "metadata": {},
     "output_type": "execute_result"
    }
   ],
   "source": [
    "train.describe()"
   ]
  },
  {
   "cell_type": "code",
   "execution_count": 8,
   "metadata": {},
   "outputs": [
    {
     "data": {
      "text/html": [
       "<div>\n",
       "<style scoped>\n",
       "    .dataframe tbody tr th:only-of-type {\n",
       "        vertical-align: middle;\n",
       "    }\n",
       "\n",
       "    .dataframe tbody tr th {\n",
       "        vertical-align: top;\n",
       "    }\n",
       "\n",
       "    .dataframe thead th {\n",
       "        text-align: right;\n",
       "    }\n",
       "</style>\n",
       "<table border=\"1\" class=\"dataframe\">\n",
       "  <thead>\n",
       "    <tr style=\"text-align: right;\">\n",
       "      <th></th>\n",
       "      <th>time</th>\n",
       "      <th>dir_prev_bfnum</th>\n",
       "      <th>dir_prev_num</th>\n",
       "      <th>num_staff</th>\n",
       "      <th>num_actor</th>\n",
       "    </tr>\n",
       "  </thead>\n",
       "  <tbody>\n",
       "    <tr>\n",
       "      <th>count</th>\n",
       "      <td>243.000000</td>\n",
       "      <td>1.070000e+02</td>\n",
       "      <td>243.000000</td>\n",
       "      <td>243.000000</td>\n",
       "      <td>243.000000</td>\n",
       "    </tr>\n",
       "    <tr>\n",
       "      <th>mean</th>\n",
       "      <td>109.798354</td>\n",
       "      <td>8.916695e+05</td>\n",
       "      <td>0.851852</td>\n",
       "      <td>159.316872</td>\n",
       "      <td>3.477366</td>\n",
       "    </tr>\n",
       "    <tr>\n",
       "      <th>std</th>\n",
       "      <td>124.022711</td>\n",
       "      <td>1.217341e+06</td>\n",
       "      <td>1.200321</td>\n",
       "      <td>162.976607</td>\n",
       "      <td>2.111192</td>\n",
       "    </tr>\n",
       "    <tr>\n",
       "      <th>min</th>\n",
       "      <td>40.000000</td>\n",
       "      <td>3.400000e+01</td>\n",
       "      <td>0.000000</td>\n",
       "      <td>0.000000</td>\n",
       "      <td>0.000000</td>\n",
       "    </tr>\n",
       "    <tr>\n",
       "      <th>25%</th>\n",
       "      <td>91.000000</td>\n",
       "      <td>6.250200e+04</td>\n",
       "      <td>0.000000</td>\n",
       "      <td>18.000000</td>\n",
       "      <td>2.000000</td>\n",
       "    </tr>\n",
       "    <tr>\n",
       "      <th>50%</th>\n",
       "      <td>104.000000</td>\n",
       "      <td>4.931200e+05</td>\n",
       "      <td>0.000000</td>\n",
       "      <td>105.000000</td>\n",
       "      <td>3.000000</td>\n",
       "    </tr>\n",
       "    <tr>\n",
       "      <th>75%</th>\n",
       "      <td>114.500000</td>\n",
       "      <td>1.080850e+06</td>\n",
       "      <td>1.000000</td>\n",
       "      <td>282.000000</td>\n",
       "      <td>4.000000</td>\n",
       "    </tr>\n",
       "    <tr>\n",
       "      <th>max</th>\n",
       "      <td>2015.000000</td>\n",
       "      <td>6.173100e+06</td>\n",
       "      <td>6.000000</td>\n",
       "      <td>776.000000</td>\n",
       "      <td>16.000000</td>\n",
       "    </tr>\n",
       "  </tbody>\n",
       "</table>\n",
       "</div>"
      ],
      "text/plain": [
       "              time  dir_prev_bfnum  dir_prev_num   num_staff   num_actor\n",
       "count   243.000000    1.070000e+02    243.000000  243.000000  243.000000\n",
       "mean    109.798354    8.916695e+05      0.851852  159.316872    3.477366\n",
       "std     124.022711    1.217341e+06      1.200321  162.976607    2.111192\n",
       "min      40.000000    3.400000e+01      0.000000    0.000000    0.000000\n",
       "25%      91.000000    6.250200e+04      0.000000   18.000000    2.000000\n",
       "50%     104.000000    4.931200e+05      0.000000  105.000000    3.000000\n",
       "75%     114.500000    1.080850e+06      1.000000  282.000000    4.000000\n",
       "max    2015.000000    6.173100e+06      6.000000  776.000000   16.000000"
      ]
     },
     "execution_count": 8,
     "metadata": {},
     "output_type": "execute_result"
    }
   ],
   "source": [
    "test.describe()"
   ]
  },
  {
   "cell_type": "code",
   "execution_count": 9,
   "metadata": {},
   "outputs": [
    {
     "data": {
      "text/html": [
       "<div>\n",
       "<style scoped>\n",
       "    .dataframe tbody tr th:only-of-type {\n",
       "        vertical-align: middle;\n",
       "    }\n",
       "\n",
       "    .dataframe tbody tr th {\n",
       "        vertical-align: top;\n",
       "    }\n",
       "\n",
       "    .dataframe thead th {\n",
       "        text-align: right;\n",
       "    }\n",
       "</style>\n",
       "<table border=\"1\" class=\"dataframe\">\n",
       "  <thead>\n",
       "    <tr style=\"text-align: right;\">\n",
       "      <th></th>\n",
       "      <th>time</th>\n",
       "      <th>dir_prev_bfnum</th>\n",
       "      <th>dir_prev_num</th>\n",
       "      <th>num_staff</th>\n",
       "      <th>num_actor</th>\n",
       "      <th>box_off_num</th>\n",
       "    </tr>\n",
       "  </thead>\n",
       "  <tbody>\n",
       "    <tr>\n",
       "      <th>time</th>\n",
       "      <td>1.000000</td>\n",
       "      <td>0.264675</td>\n",
       "      <td>0.306727</td>\n",
       "      <td>0.623205</td>\n",
       "      <td>0.114153</td>\n",
       "      <td>0.441452</td>\n",
       "    </tr>\n",
       "    <tr>\n",
       "      <th>dir_prev_bfnum</th>\n",
       "      <td>0.264675</td>\n",
       "      <td>1.000000</td>\n",
       "      <td>0.131822</td>\n",
       "      <td>0.323521</td>\n",
       "      <td>0.083818</td>\n",
       "      <td>0.283184</td>\n",
       "    </tr>\n",
       "    <tr>\n",
       "      <th>dir_prev_num</th>\n",
       "      <td>0.306727</td>\n",
       "      <td>0.131822</td>\n",
       "      <td>1.000000</td>\n",
       "      <td>0.450706</td>\n",
       "      <td>0.014006</td>\n",
       "      <td>0.259674</td>\n",
       "    </tr>\n",
       "    <tr>\n",
       "      <th>num_staff</th>\n",
       "      <td>0.623205</td>\n",
       "      <td>0.323521</td>\n",
       "      <td>0.450706</td>\n",
       "      <td>1.000000</td>\n",
       "      <td>0.077871</td>\n",
       "      <td>0.544265</td>\n",
       "    </tr>\n",
       "    <tr>\n",
       "      <th>num_actor</th>\n",
       "      <td>0.114153</td>\n",
       "      <td>0.083818</td>\n",
       "      <td>0.014006</td>\n",
       "      <td>0.077871</td>\n",
       "      <td>1.000000</td>\n",
       "      <td>0.111179</td>\n",
       "    </tr>\n",
       "    <tr>\n",
       "      <th>box_off_num</th>\n",
       "      <td>0.441452</td>\n",
       "      <td>0.283184</td>\n",
       "      <td>0.259674</td>\n",
       "      <td>0.544265</td>\n",
       "      <td>0.111179</td>\n",
       "      <td>1.000000</td>\n",
       "    </tr>\n",
       "  </tbody>\n",
       "</table>\n",
       "</div>"
      ],
      "text/plain": [
       "                    time  dir_prev_bfnum  dir_prev_num  num_staff  num_actor  \\\n",
       "time            1.000000        0.264675      0.306727   0.623205   0.114153   \n",
       "dir_prev_bfnum  0.264675        1.000000      0.131822   0.323521   0.083818   \n",
       "dir_prev_num    0.306727        0.131822      1.000000   0.450706   0.014006   \n",
       "num_staff       0.623205        0.323521      0.450706   1.000000   0.077871   \n",
       "num_actor       0.114153        0.083818      0.014006   0.077871   1.000000   \n",
       "box_off_num     0.441452        0.283184      0.259674   0.544265   0.111179   \n",
       "\n",
       "                box_off_num  \n",
       "time               0.441452  \n",
       "dir_prev_bfnum     0.283184  \n",
       "dir_prev_num       0.259674  \n",
       "num_staff          0.544265  \n",
       "num_actor          0.111179  \n",
       "box_off_num        1.000000  "
      ]
     },
     "execution_count": 9,
     "metadata": {},
     "output_type": "execute_result"
    }
   ],
   "source": [
    "train.corr()"
   ]
  },
  {
   "cell_type": "code",
   "execution_count": 10,
   "metadata": {},
   "outputs": [
    {
     "data": {
      "text/plain": [
       "title             0.00\n",
       "distributor       0.00\n",
       "genre             0.00\n",
       "release_time      0.00\n",
       "time              0.00\n",
       "screening_rat     0.00\n",
       "director          0.00\n",
       "dir_prev_bfnum    0.55\n",
       "dir_prev_num      0.00\n",
       "num_staff         0.00\n",
       "num_actor         0.00\n",
       "box_off_num       0.00\n",
       "dtype: float64"
      ]
     },
     "execution_count": 10,
     "metadata": {},
     "output_type": "execute_result"
    }
   ],
   "source": [
    "train.isna().sum() /600"
   ]
  },
  {
   "cell_type": "code",
   "execution_count": 11,
   "metadata": {},
   "outputs": [
    {
     "data": {
      "text/html": [
       "<div>\n",
       "<style scoped>\n",
       "    .dataframe tbody tr th:only-of-type {\n",
       "        vertical-align: middle;\n",
       "    }\n",
       "\n",
       "    .dataframe tbody tr th {\n",
       "        vertical-align: top;\n",
       "    }\n",
       "\n",
       "    .dataframe thead th {\n",
       "        text-align: right;\n",
       "    }\n",
       "</style>\n",
       "<table border=\"1\" class=\"dataframe\">\n",
       "  <thead>\n",
       "    <tr style=\"text-align: right;\">\n",
       "      <th></th>\n",
       "      <th>title</th>\n",
       "      <th>distributor</th>\n",
       "      <th>genre</th>\n",
       "      <th>release_time</th>\n",
       "      <th>time</th>\n",
       "      <th>screening_rat</th>\n",
       "      <th>director</th>\n",
       "      <th>dir_prev_bfnum</th>\n",
       "      <th>dir_prev_num</th>\n",
       "      <th>num_staff</th>\n",
       "      <th>num_actor</th>\n",
       "      <th>box_off_num</th>\n",
       "    </tr>\n",
       "  </thead>\n",
       "  <tbody>\n",
       "    <tr>\n",
       "      <th>0</th>\n",
       "      <td>개들의 전쟁</td>\n",
       "      <td>롯데엔터테인먼트</td>\n",
       "      <td>액션</td>\n",
       "      <td>2012-11-22</td>\n",
       "      <td>96</td>\n",
       "      <td>청소년 관람불가</td>\n",
       "      <td>조병옥</td>\n",
       "      <td>NaN</td>\n",
       "      <td>0</td>\n",
       "      <td>91</td>\n",
       "      <td>2</td>\n",
       "      <td>23398</td>\n",
       "    </tr>\n",
       "    <tr>\n",
       "      <th>1</th>\n",
       "      <td>내부자들</td>\n",
       "      <td>(주)쇼박스</td>\n",
       "      <td>느와르</td>\n",
       "      <td>2015-11-19</td>\n",
       "      <td>130</td>\n",
       "      <td>청소년 관람불가</td>\n",
       "      <td>우민호</td>\n",
       "      <td>1161602.50</td>\n",
       "      <td>2</td>\n",
       "      <td>387</td>\n",
       "      <td>3</td>\n",
       "      <td>7072501</td>\n",
       "    </tr>\n",
       "    <tr>\n",
       "      <th>2</th>\n",
       "      <td>은밀하게 위대하게</td>\n",
       "      <td>(주)쇼박스</td>\n",
       "      <td>액션</td>\n",
       "      <td>2013-06-05</td>\n",
       "      <td>123</td>\n",
       "      <td>15세 관람가</td>\n",
       "      <td>장철수</td>\n",
       "      <td>220775.25</td>\n",
       "      <td>4</td>\n",
       "      <td>343</td>\n",
       "      <td>4</td>\n",
       "      <td>6959083</td>\n",
       "    </tr>\n",
       "    <tr>\n",
       "      <th>3</th>\n",
       "      <td>나는 공무원이다</td>\n",
       "      <td>(주)NEW</td>\n",
       "      <td>코미디</td>\n",
       "      <td>2012-07-12</td>\n",
       "      <td>101</td>\n",
       "      <td>전체 관람가</td>\n",
       "      <td>구자홍</td>\n",
       "      <td>23894.00</td>\n",
       "      <td>2</td>\n",
       "      <td>20</td>\n",
       "      <td>6</td>\n",
       "      <td>217866</td>\n",
       "    </tr>\n",
       "    <tr>\n",
       "      <th>4</th>\n",
       "      <td>불량남녀</td>\n",
       "      <td>쇼박스(주)미디어플렉스</td>\n",
       "      <td>코미디</td>\n",
       "      <td>2010-11-04</td>\n",
       "      <td>108</td>\n",
       "      <td>15세 관람가</td>\n",
       "      <td>신근호</td>\n",
       "      <td>1.00</td>\n",
       "      <td>1</td>\n",
       "      <td>251</td>\n",
       "      <td>2</td>\n",
       "      <td>483387</td>\n",
       "    </tr>\n",
       "  </tbody>\n",
       "</table>\n",
       "</div>"
      ],
      "text/plain": [
       "       title   distributor genre release_time  time screening_rat director  \\\n",
       "0     개들의 전쟁      롯데엔터테인먼트    액션   2012-11-22    96      청소년 관람불가      조병옥   \n",
       "1       내부자들        (주)쇼박스   느와르   2015-11-19   130      청소년 관람불가      우민호   \n",
       "2  은밀하게 위대하게        (주)쇼박스    액션   2013-06-05   123       15세 관람가      장철수   \n",
       "3   나는 공무원이다        (주)NEW   코미디   2012-07-12   101        전체 관람가      구자홍   \n",
       "4       불량남녀  쇼박스(주)미디어플렉스   코미디   2010-11-04   108       15세 관람가      신근호   \n",
       "\n",
       "   dir_prev_bfnum  dir_prev_num  num_staff  num_actor  box_off_num  \n",
       "0             NaN             0         91          2        23398  \n",
       "1      1161602.50             2        387          3      7072501  \n",
       "2       220775.25             4        343          4      6959083  \n",
       "3        23894.00             2         20          6       217866  \n",
       "4            1.00             1        251          2       483387  "
      ]
     },
     "execution_count": 11,
     "metadata": {},
     "output_type": "execute_result"
    }
   ],
   "source": [
    "train.head()"
   ]
  },
  {
   "cell_type": "code",
   "execution_count": 12,
   "metadata": {},
   "outputs": [
    {
     "data": {
      "text/html": [
       "<div>\n",
       "<style scoped>\n",
       "    .dataframe tbody tr th:only-of-type {\n",
       "        vertical-align: middle;\n",
       "    }\n",
       "\n",
       "    .dataframe tbody tr th {\n",
       "        vertical-align: top;\n",
       "    }\n",
       "\n",
       "    .dataframe thead th {\n",
       "        text-align: right;\n",
       "    }\n",
       "</style>\n",
       "<table border=\"1\" class=\"dataframe\">\n",
       "  <thead>\n",
       "    <tr style=\"text-align: right;\">\n",
       "      <th></th>\n",
       "      <th>title</th>\n",
       "      <th>distributor</th>\n",
       "      <th>genre</th>\n",
       "      <th>release_time</th>\n",
       "      <th>time</th>\n",
       "      <th>screening_rat</th>\n",
       "      <th>director</th>\n",
       "      <th>dir_prev_bfnum</th>\n",
       "      <th>dir_prev_num</th>\n",
       "      <th>num_staff</th>\n",
       "      <th>num_actor</th>\n",
       "      <th>box_off_num</th>\n",
       "    </tr>\n",
       "  </thead>\n",
       "  <tbody>\n",
       "    <tr>\n",
       "      <th>0</th>\n",
       "      <td>개들의 전쟁</td>\n",
       "      <td>롯데엔터테인먼트</td>\n",
       "      <td>액션</td>\n",
       "      <td>2012-11-22</td>\n",
       "      <td>96</td>\n",
       "      <td>청소년 관람불가</td>\n",
       "      <td>조병옥</td>\n",
       "      <td>NaN</td>\n",
       "      <td>0</td>\n",
       "      <td>91</td>\n",
       "      <td>2</td>\n",
       "      <td>23398</td>\n",
       "    </tr>\n",
       "    <tr>\n",
       "      <th>6</th>\n",
       "      <td>길위에서</td>\n",
       "      <td>백두대간</td>\n",
       "      <td>다큐멘터리</td>\n",
       "      <td>2013-05-23</td>\n",
       "      <td>104</td>\n",
       "      <td>전체 관람가</td>\n",
       "      <td>이창재</td>\n",
       "      <td>NaN</td>\n",
       "      <td>0</td>\n",
       "      <td>32</td>\n",
       "      <td>5</td>\n",
       "      <td>53526</td>\n",
       "    </tr>\n",
       "    <tr>\n",
       "      <th>8</th>\n",
       "      <td>1789, 바스티유의 연인들</td>\n",
       "      <td>유니버설픽쳐스인터내셔널코리아</td>\n",
       "      <td>뮤지컬</td>\n",
       "      <td>2014-09-18</td>\n",
       "      <td>129</td>\n",
       "      <td>전체 관람가</td>\n",
       "      <td>정성복</td>\n",
       "      <td>NaN</td>\n",
       "      <td>0</td>\n",
       "      <td>3</td>\n",
       "      <td>5</td>\n",
       "      <td>4778</td>\n",
       "    </tr>\n",
       "    <tr>\n",
       "      <th>9</th>\n",
       "      <td>청춘그루브</td>\n",
       "      <td>(주)두타연</td>\n",
       "      <td>드라마</td>\n",
       "      <td>2012-03-15</td>\n",
       "      <td>94</td>\n",
       "      <td>15세 관람가</td>\n",
       "      <td>변성현</td>\n",
       "      <td>NaN</td>\n",
       "      <td>0</td>\n",
       "      <td>138</td>\n",
       "      <td>3</td>\n",
       "      <td>868</td>\n",
       "    </tr>\n",
       "    <tr>\n",
       "      <th>10</th>\n",
       "      <td>AV 아이돌</td>\n",
       "      <td>(주) 케이알씨지</td>\n",
       "      <td>멜로/로맨스</td>\n",
       "      <td>2015-07-27</td>\n",
       "      <td>89</td>\n",
       "      <td>청소년 관람불가</td>\n",
       "      <td>조조 히데오</td>\n",
       "      <td>NaN</td>\n",
       "      <td>0</td>\n",
       "      <td>0</td>\n",
       "      <td>4</td>\n",
       "      <td>745</td>\n",
       "    </tr>\n",
       "    <tr>\n",
       "      <th>...</th>\n",
       "      <td>...</td>\n",
       "      <td>...</td>\n",
       "      <td>...</td>\n",
       "      <td>...</td>\n",
       "      <td>...</td>\n",
       "      <td>...</td>\n",
       "      <td>...</td>\n",
       "      <td>...</td>\n",
       "      <td>...</td>\n",
       "      <td>...</td>\n",
       "      <td>...</td>\n",
       "      <td>...</td>\n",
       "    </tr>\n",
       "    <tr>\n",
       "      <th>593</th>\n",
       "      <td>낭만파 남편의 편지</td>\n",
       "      <td>퍼스트런</td>\n",
       "      <td>미스터리</td>\n",
       "      <td>2013-09-12</td>\n",
       "      <td>97</td>\n",
       "      <td>청소년 관람불가</td>\n",
       "      <td>최위안</td>\n",
       "      <td>NaN</td>\n",
       "      <td>0</td>\n",
       "      <td>5</td>\n",
       "      <td>3</td>\n",
       "      <td>1132</td>\n",
       "    </tr>\n",
       "    <tr>\n",
       "      <th>594</th>\n",
       "      <td>오빠가 돌아왔다</td>\n",
       "      <td>(주)마운틴픽쳐스</td>\n",
       "      <td>코미디</td>\n",
       "      <td>2014-03-20</td>\n",
       "      <td>94</td>\n",
       "      <td>청소년 관람불가</td>\n",
       "      <td>노진수</td>\n",
       "      <td>NaN</td>\n",
       "      <td>0</td>\n",
       "      <td>37</td>\n",
       "      <td>5</td>\n",
       "      <td>1958</td>\n",
       "    </tr>\n",
       "    <tr>\n",
       "      <th>597</th>\n",
       "      <td>살인의 강</td>\n",
       "      <td>(주)마운틴픽쳐스</td>\n",
       "      <td>공포</td>\n",
       "      <td>2010-09-30</td>\n",
       "      <td>99</td>\n",
       "      <td>청소년 관람불가</td>\n",
       "      <td>김대현</td>\n",
       "      <td>NaN</td>\n",
       "      <td>0</td>\n",
       "      <td>123</td>\n",
       "      <td>4</td>\n",
       "      <td>2475</td>\n",
       "    </tr>\n",
       "    <tr>\n",
       "      <th>598</th>\n",
       "      <td>악의 연대기</td>\n",
       "      <td>CJ 엔터테인먼트</td>\n",
       "      <td>느와르</td>\n",
       "      <td>2015-05-14</td>\n",
       "      <td>102</td>\n",
       "      <td>15세 관람가</td>\n",
       "      <td>백운학</td>\n",
       "      <td>NaN</td>\n",
       "      <td>0</td>\n",
       "      <td>431</td>\n",
       "      <td>4</td>\n",
       "      <td>2192525</td>\n",
       "    </tr>\n",
       "    <tr>\n",
       "      <th>599</th>\n",
       "      <td>베를린</td>\n",
       "      <td>CJ 엔터테인먼트</td>\n",
       "      <td>액션</td>\n",
       "      <td>2013-01-30</td>\n",
       "      <td>120</td>\n",
       "      <td>15세 관람가</td>\n",
       "      <td>류승완</td>\n",
       "      <td>NaN</td>\n",
       "      <td>0</td>\n",
       "      <td>363</td>\n",
       "      <td>5</td>\n",
       "      <td>7166532</td>\n",
       "    </tr>\n",
       "  </tbody>\n",
       "</table>\n",
       "<p>330 rows × 12 columns</p>\n",
       "</div>"
      ],
      "text/plain": [
       "               title      distributor   genre release_time  time  \\\n",
       "0             개들의 전쟁         롯데엔터테인먼트      액션   2012-11-22    96   \n",
       "6               길위에서             백두대간   다큐멘터리   2013-05-23   104   \n",
       "8    1789, 바스티유의 연인들  유니버설픽쳐스인터내셔널코리아     뮤지컬   2014-09-18   129   \n",
       "9              청춘그루브           (주)두타연     드라마   2012-03-15    94   \n",
       "10            AV 아이돌        (주) 케이알씨지  멜로/로맨스   2015-07-27    89   \n",
       "..               ...              ...     ...          ...   ...   \n",
       "593       낭만파 남편의 편지             퍼스트런    미스터리   2013-09-12    97   \n",
       "594         오빠가 돌아왔다        (주)마운틴픽쳐스     코미디   2014-03-20    94   \n",
       "597            살인의 강        (주)마운틴픽쳐스      공포   2010-09-30    99   \n",
       "598           악의 연대기        CJ 엔터테인먼트     느와르   2015-05-14   102   \n",
       "599              베를린        CJ 엔터테인먼트      액션   2013-01-30   120   \n",
       "\n",
       "    screening_rat director  dir_prev_bfnum  dir_prev_num  num_staff  \\\n",
       "0        청소년 관람불가      조병옥             NaN             0         91   \n",
       "6          전체 관람가      이창재             NaN             0         32   \n",
       "8          전체 관람가      정성복             NaN             0          3   \n",
       "9         15세 관람가      변성현             NaN             0        138   \n",
       "10       청소년 관람불가   조조 히데오             NaN             0          0   \n",
       "..            ...      ...             ...           ...        ...   \n",
       "593      청소년 관람불가      최위안             NaN             0          5   \n",
       "594      청소년 관람불가      노진수             NaN             0         37   \n",
       "597      청소년 관람불가      김대현             NaN             0        123   \n",
       "598       15세 관람가      백운학             NaN             0        431   \n",
       "599       15세 관람가      류승완             NaN             0        363   \n",
       "\n",
       "     num_actor  box_off_num  \n",
       "0            2        23398  \n",
       "6            5        53526  \n",
       "8            5         4778  \n",
       "9            3          868  \n",
       "10           4          745  \n",
       "..         ...          ...  \n",
       "593          3         1132  \n",
       "594          5         1958  \n",
       "597          4         2475  \n",
       "598          4      2192525  \n",
       "599          5      7166532  \n",
       "\n",
       "[330 rows x 12 columns]"
      ]
     },
     "execution_count": 12,
     "metadata": {},
     "output_type": "execute_result"
    }
   ],
   "source": [
    "train[train['dir_prev_bfnum'].isna()]"
   ]
  },
  {
   "cell_type": "code",
   "execution_count": 13,
   "metadata": {},
   "outputs": [
    {
     "data": {
      "text/plain": [
       "0"
      ]
     },
     "execution_count": 13,
     "metadata": {},
     "output_type": "execute_result"
    }
   ],
   "source": [
    "train[train['dir_prev_bfnum'].isna()]['dir_prev_num'].sum()"
   ]
  },
  {
   "cell_type": "markdown",
   "metadata": {},
   "source": [
    "# 관객수가 알려지지 않아서 제외됨"
   ]
  },
  {
   "cell_type": "code",
   "execution_count": 14,
   "metadata": {},
   "outputs": [],
   "source": [
    "train['dir_prev_bfnum'].fillna(0,inplace=True)"
   ]
  },
  {
   "cell_type": "code",
   "execution_count": 15,
   "metadata": {},
   "outputs": [
    {
     "name": "stdout",
     "output_type": "stream",
     "text": [
      "<class 'pandas.core.frame.DataFrame'>\n",
      "RangeIndex: 600 entries, 0 to 599\n",
      "Data columns (total 12 columns):\n",
      " #   Column          Non-Null Count  Dtype  \n",
      "---  ------          --------------  -----  \n",
      " 0   title           600 non-null    object \n",
      " 1   distributor     600 non-null    object \n",
      " 2   genre           600 non-null    object \n",
      " 3   release_time    600 non-null    object \n",
      " 4   time            600 non-null    int64  \n",
      " 5   screening_rat   600 non-null    object \n",
      " 6   director        600 non-null    object \n",
      " 7   dir_prev_bfnum  600 non-null    float64\n",
      " 8   dir_prev_num    600 non-null    int64  \n",
      " 9   num_staff       600 non-null    int64  \n",
      " 10  num_actor       600 non-null    int64  \n",
      " 11  box_off_num     600 non-null    int64  \n",
      "dtypes: float64(1), int64(5), object(6)\n",
      "memory usage: 56.4+ KB\n"
     ]
    }
   ],
   "source": [
    "train.info()"
   ]
  },
  {
   "cell_type": "code",
   "execution_count": 16,
   "metadata": {},
   "outputs": [
    {
     "name": "stdout",
     "output_type": "stream",
     "text": [
      "<class 'pandas.core.frame.DataFrame'>\n",
      "RangeIndex: 243 entries, 0 to 242\n",
      "Data columns (total 11 columns):\n",
      " #   Column          Non-Null Count  Dtype  \n",
      "---  ------          --------------  -----  \n",
      " 0   title           243 non-null    object \n",
      " 1   distributor     243 non-null    object \n",
      " 2   genre           243 non-null    object \n",
      " 3   release_time    243 non-null    object \n",
      " 4   time            243 non-null    int64  \n",
      " 5   screening_rat   243 non-null    object \n",
      " 6   director        243 non-null    object \n",
      " 7   dir_prev_bfnum  107 non-null    float64\n",
      " 8   dir_prev_num    243 non-null    int64  \n",
      " 9   num_staff       243 non-null    int64  \n",
      " 10  num_actor       243 non-null    int64  \n",
      "dtypes: float64(1), int64(4), object(6)\n",
      "memory usage: 21.0+ KB\n"
     ]
    }
   ],
   "source": [
    "test.info()"
   ]
  },
  {
   "cell_type": "code",
   "execution_count": 17,
   "metadata": {},
   "outputs": [],
   "source": [
    "test['dir_prev_bfnum'].fillna(0,inplace=True)"
   ]
  },
  {
   "cell_type": "code",
   "execution_count": 18,
   "metadata": {
    "scrolled": true
   },
   "outputs": [
    {
     "name": "stdout",
     "output_type": "stream",
     "text": [
      "<class 'pandas.core.frame.DataFrame'>\n",
      "RangeIndex: 243 entries, 0 to 242\n",
      "Data columns (total 11 columns):\n",
      " #   Column          Non-Null Count  Dtype  \n",
      "---  ------          --------------  -----  \n",
      " 0   title           243 non-null    object \n",
      " 1   distributor     243 non-null    object \n",
      " 2   genre           243 non-null    object \n",
      " 3   release_time    243 non-null    object \n",
      " 4   time            243 non-null    int64  \n",
      " 5   screening_rat   243 non-null    object \n",
      " 6   director        243 non-null    object \n",
      " 7   dir_prev_bfnum  243 non-null    float64\n",
      " 8   dir_prev_num    243 non-null    int64  \n",
      " 9   num_staff       243 non-null    int64  \n",
      " 10  num_actor       243 non-null    int64  \n",
      "dtypes: float64(1), int64(4), object(6)\n",
      "memory usage: 21.0+ KB\n"
     ]
    }
   ],
   "source": [
    "test.info()"
   ]
  },
  {
   "cell_type": "code",
   "execution_count": 19,
   "metadata": {},
   "outputs": [
    {
     "data": {
      "text/html": [
       "<div>\n",
       "<style scoped>\n",
       "    .dataframe tbody tr th:only-of-type {\n",
       "        vertical-align: middle;\n",
       "    }\n",
       "\n",
       "    .dataframe tbody tr th {\n",
       "        vertical-align: top;\n",
       "    }\n",
       "\n",
       "    .dataframe thead th {\n",
       "        text-align: right;\n",
       "    }\n",
       "</style>\n",
       "<table border=\"1\" class=\"dataframe\">\n",
       "  <thead>\n",
       "    <tr style=\"text-align: right;\">\n",
       "      <th></th>\n",
       "      <th>time</th>\n",
       "      <th>dir_prev_bfnum</th>\n",
       "      <th>dir_prev_num</th>\n",
       "      <th>num_staff</th>\n",
       "      <th>num_actor</th>\n",
       "      <th>box_off_num</th>\n",
       "    </tr>\n",
       "  </thead>\n",
       "  <tbody>\n",
       "    <tr>\n",
       "      <th>time</th>\n",
       "      <td>1.000000</td>\n",
       "      <td>0.266065</td>\n",
       "      <td>0.306727</td>\n",
       "      <td>0.623205</td>\n",
       "      <td>0.114153</td>\n",
       "      <td>0.441452</td>\n",
       "    </tr>\n",
       "    <tr>\n",
       "      <th>dir_prev_bfnum</th>\n",
       "      <td>0.266065</td>\n",
       "      <td>1.000000</td>\n",
       "      <td>0.396616</td>\n",
       "      <td>0.369657</td>\n",
       "      <td>0.042491</td>\n",
       "      <td>0.293791</td>\n",
       "    </tr>\n",
       "    <tr>\n",
       "      <th>dir_prev_num</th>\n",
       "      <td>0.306727</td>\n",
       "      <td>0.396616</td>\n",
       "      <td>1.000000</td>\n",
       "      <td>0.450706</td>\n",
       "      <td>0.014006</td>\n",
       "      <td>0.259674</td>\n",
       "    </tr>\n",
       "    <tr>\n",
       "      <th>num_staff</th>\n",
       "      <td>0.623205</td>\n",
       "      <td>0.369657</td>\n",
       "      <td>0.450706</td>\n",
       "      <td>1.000000</td>\n",
       "      <td>0.077871</td>\n",
       "      <td>0.544265</td>\n",
       "    </tr>\n",
       "    <tr>\n",
       "      <th>num_actor</th>\n",
       "      <td>0.114153</td>\n",
       "      <td>0.042491</td>\n",
       "      <td>0.014006</td>\n",
       "      <td>0.077871</td>\n",
       "      <td>1.000000</td>\n",
       "      <td>0.111179</td>\n",
       "    </tr>\n",
       "    <tr>\n",
       "      <th>box_off_num</th>\n",
       "      <td>0.441452</td>\n",
       "      <td>0.293791</td>\n",
       "      <td>0.259674</td>\n",
       "      <td>0.544265</td>\n",
       "      <td>0.111179</td>\n",
       "      <td>1.000000</td>\n",
       "    </tr>\n",
       "  </tbody>\n",
       "</table>\n",
       "</div>"
      ],
      "text/plain": [
       "                    time  dir_prev_bfnum  dir_prev_num  num_staff  num_actor  \\\n",
       "time            1.000000        0.266065      0.306727   0.623205   0.114153   \n",
       "dir_prev_bfnum  0.266065        1.000000      0.396616   0.369657   0.042491   \n",
       "dir_prev_num    0.306727        0.396616      1.000000   0.450706   0.014006   \n",
       "num_staff       0.623205        0.369657      0.450706   1.000000   0.077871   \n",
       "num_actor       0.114153        0.042491      0.014006   0.077871   1.000000   \n",
       "box_off_num     0.441452        0.293791      0.259674   0.544265   0.111179   \n",
       "\n",
       "                box_off_num  \n",
       "time               0.441452  \n",
       "dir_prev_bfnum     0.293791  \n",
       "dir_prev_num       0.259674  \n",
       "num_staff          0.544265  \n",
       "num_actor          0.111179  \n",
       "box_off_num        1.000000  "
      ]
     },
     "execution_count": 19,
     "metadata": {},
     "output_type": "execute_result"
    }
   ],
   "source": [
    "train.corr()"
   ]
  },
  {
   "cell_type": "markdown",
   "metadata": {},
   "source": [
    "# 변수 선택 및 모델 구축 LGB모델"
   ]
  },
  {
   "cell_type": "code",
   "execution_count": 20,
   "metadata": {},
   "outputs": [],
   "source": [
    "model = lgb.LGBMRegressor(random_state=777, n_estimators=1000)"
   ]
  },
  {
   "cell_type": "code",
   "execution_count": 21,
   "metadata": {},
   "outputs": [],
   "source": [
    "features = ['time', 'dir_prev_num', 'num_staff', 'num_actor']\n",
    "target=['box_off_num']"
   ]
  },
  {
   "cell_type": "code",
   "execution_count": 22,
   "metadata": {},
   "outputs": [],
   "source": [
    "X_train, X_test, y_train = train[features], test[features], train[target]"
   ]
  },
  {
   "cell_type": "markdown",
   "metadata": {},
   "source": [
    "# 모델 학습 및 검증"
   ]
  },
  {
   "cell_type": "markdown",
   "metadata": {},
   "source": [
    "## light gbm"
   ]
  },
  {
   "cell_type": "code",
   "execution_count": 23,
   "metadata": {
    "scrolled": true
   },
   "outputs": [
    {
     "data": {
      "text/plain": [
       "LGBMRegressor(boosting_type='gbdt', class_weight=None, colsample_bytree=1.0,\n",
       "              importance_type='split', learning_rate=0.1, max_depth=-1,\n",
       "              min_child_samples=20, min_child_weight=0.001, min_split_gain=0.0,\n",
       "              n_estimators=1000, n_jobs=-1, num_leaves=31, objective=None,\n",
       "              random_state=777, reg_alpha=0.0, reg_lambda=0.0, silent=True,\n",
       "              subsample=1.0, subsample_for_bin=200000, subsample_freq=0)"
      ]
     },
     "execution_count": 23,
     "metadata": {},
     "output_type": "execute_result"
    }
   ],
   "source": [
    "model.fit(X_train, y_train)"
   ]
  },
  {
   "cell_type": "code",
   "execution_count": 24,
   "metadata": {},
   "outputs": [],
   "source": [
    "sigleLGBM = submission.copy()"
   ]
  },
  {
   "cell_type": "code",
   "execution_count": 25,
   "metadata": {
    "scrolled": true
   },
   "outputs": [
    {
     "data": {
      "text/html": [
       "<div>\n",
       "<style scoped>\n",
       "    .dataframe tbody tr th:only-of-type {\n",
       "        vertical-align: middle;\n",
       "    }\n",
       "\n",
       "    .dataframe tbody tr th {\n",
       "        vertical-align: top;\n",
       "    }\n",
       "\n",
       "    .dataframe thead th {\n",
       "        text-align: right;\n",
       "    }\n",
       "</style>\n",
       "<table border=\"1\" class=\"dataframe\">\n",
       "  <thead>\n",
       "    <tr style=\"text-align: right;\">\n",
       "      <th></th>\n",
       "      <th>title</th>\n",
       "      <th>box_off_num</th>\n",
       "    </tr>\n",
       "  </thead>\n",
       "  <tbody>\n",
       "    <tr>\n",
       "      <th>0</th>\n",
       "      <td>용서는 없다</td>\n",
       "      <td>0</td>\n",
       "    </tr>\n",
       "    <tr>\n",
       "      <th>1</th>\n",
       "      <td>아빠가 여자를 좋아해</td>\n",
       "      <td>0</td>\n",
       "    </tr>\n",
       "    <tr>\n",
       "      <th>2</th>\n",
       "      <td>하모니</td>\n",
       "      <td>0</td>\n",
       "    </tr>\n",
       "    <tr>\n",
       "      <th>3</th>\n",
       "      <td>의형제</td>\n",
       "      <td>0</td>\n",
       "    </tr>\n",
       "    <tr>\n",
       "      <th>4</th>\n",
       "      <td>평행 이론</td>\n",
       "      <td>0</td>\n",
       "    </tr>\n",
       "  </tbody>\n",
       "</table>\n",
       "</div>"
      ],
      "text/plain": [
       "         title  box_off_num\n",
       "0       용서는 없다            0\n",
       "1  아빠가 여자를 좋아해            0\n",
       "2          하모니            0\n",
       "3          의형제            0\n",
       "4        평행 이론            0"
      ]
     },
     "execution_count": 25,
     "metadata": {},
     "output_type": "execute_result"
    }
   ],
   "source": [
    "sigleLGBM.head()"
   ]
  },
  {
   "cell_type": "markdown",
   "metadata": {},
   "source": [
    "### 답안지를 만든다"
   ]
  },
  {
   "cell_type": "code",
   "execution_count": 26,
   "metadata": {},
   "outputs": [],
   "source": [
    "sigleLGBM['box_off_num'] = model.predict(X_test)"
   ]
  },
  {
   "cell_type": "code",
   "execution_count": 27,
   "metadata": {},
   "outputs": [],
   "source": [
    "sigleLGBM.to_csv('sigleLGBM.csv', index =False)"
   ]
  },
  {
   "cell_type": "markdown",
   "metadata": {},
   "source": [
    "## k-fold 교차검증"
   ]
  },
  {
   "cell_type": "code",
   "execution_count": 28,
   "metadata": {},
   "outputs": [],
   "source": [
    "from sklearn.model_selection import KFold"
   ]
  },
  {
   "cell_type": "code",
   "execution_count": 29,
   "metadata": {},
   "outputs": [
    {
     "data": {
      "text/html": [
       "<div>\n",
       "<style scoped>\n",
       "    .dataframe tbody tr th:only-of-type {\n",
       "        vertical-align: middle;\n",
       "    }\n",
       "\n",
       "    .dataframe tbody tr th {\n",
       "        vertical-align: top;\n",
       "    }\n",
       "\n",
       "    .dataframe thead th {\n",
       "        text-align: right;\n",
       "    }\n",
       "</style>\n",
       "<table border=\"1\" class=\"dataframe\">\n",
       "  <thead>\n",
       "    <tr style=\"text-align: right;\">\n",
       "      <th></th>\n",
       "      <th>title</th>\n",
       "      <th>distributor</th>\n",
       "      <th>genre</th>\n",
       "      <th>release_time</th>\n",
       "      <th>time</th>\n",
       "      <th>screening_rat</th>\n",
       "      <th>director</th>\n",
       "      <th>dir_prev_bfnum</th>\n",
       "      <th>dir_prev_num</th>\n",
       "      <th>num_staff</th>\n",
       "      <th>num_actor</th>\n",
       "      <th>box_off_num</th>\n",
       "    </tr>\n",
       "  </thead>\n",
       "  <tbody>\n",
       "    <tr>\n",
       "      <th>0</th>\n",
       "      <td>개들의 전쟁</td>\n",
       "      <td>롯데엔터테인먼트</td>\n",
       "      <td>액션</td>\n",
       "      <td>2012-11-22</td>\n",
       "      <td>96</td>\n",
       "      <td>청소년 관람불가</td>\n",
       "      <td>조병옥</td>\n",
       "      <td>0.00</td>\n",
       "      <td>0</td>\n",
       "      <td>91</td>\n",
       "      <td>2</td>\n",
       "      <td>23398</td>\n",
       "    </tr>\n",
       "    <tr>\n",
       "      <th>1</th>\n",
       "      <td>내부자들</td>\n",
       "      <td>(주)쇼박스</td>\n",
       "      <td>느와르</td>\n",
       "      <td>2015-11-19</td>\n",
       "      <td>130</td>\n",
       "      <td>청소년 관람불가</td>\n",
       "      <td>우민호</td>\n",
       "      <td>1161602.50</td>\n",
       "      <td>2</td>\n",
       "      <td>387</td>\n",
       "      <td>3</td>\n",
       "      <td>7072501</td>\n",
       "    </tr>\n",
       "    <tr>\n",
       "      <th>2</th>\n",
       "      <td>은밀하게 위대하게</td>\n",
       "      <td>(주)쇼박스</td>\n",
       "      <td>액션</td>\n",
       "      <td>2013-06-05</td>\n",
       "      <td>123</td>\n",
       "      <td>15세 관람가</td>\n",
       "      <td>장철수</td>\n",
       "      <td>220775.25</td>\n",
       "      <td>4</td>\n",
       "      <td>343</td>\n",
       "      <td>4</td>\n",
       "      <td>6959083</td>\n",
       "    </tr>\n",
       "    <tr>\n",
       "      <th>3</th>\n",
       "      <td>나는 공무원이다</td>\n",
       "      <td>(주)NEW</td>\n",
       "      <td>코미디</td>\n",
       "      <td>2012-07-12</td>\n",
       "      <td>101</td>\n",
       "      <td>전체 관람가</td>\n",
       "      <td>구자홍</td>\n",
       "      <td>23894.00</td>\n",
       "      <td>2</td>\n",
       "      <td>20</td>\n",
       "      <td>6</td>\n",
       "      <td>217866</td>\n",
       "    </tr>\n",
       "    <tr>\n",
       "      <th>4</th>\n",
       "      <td>불량남녀</td>\n",
       "      <td>쇼박스(주)미디어플렉스</td>\n",
       "      <td>코미디</td>\n",
       "      <td>2010-11-04</td>\n",
       "      <td>108</td>\n",
       "      <td>15세 관람가</td>\n",
       "      <td>신근호</td>\n",
       "      <td>1.00</td>\n",
       "      <td>1</td>\n",
       "      <td>251</td>\n",
       "      <td>2</td>\n",
       "      <td>483387</td>\n",
       "    </tr>\n",
       "  </tbody>\n",
       "</table>\n",
       "</div>"
      ],
      "text/plain": [
       "       title   distributor genre release_time  time screening_rat director  \\\n",
       "0     개들의 전쟁      롯데엔터테인먼트    액션   2012-11-22    96      청소년 관람불가      조병옥   \n",
       "1       내부자들        (주)쇼박스   느와르   2015-11-19   130      청소년 관람불가      우민호   \n",
       "2  은밀하게 위대하게        (주)쇼박스    액션   2013-06-05   123       15세 관람가      장철수   \n",
       "3   나는 공무원이다        (주)NEW   코미디   2012-07-12   101        전체 관람가      구자홍   \n",
       "4       불량남녀  쇼박스(주)미디어플렉스   코미디   2010-11-04   108       15세 관람가      신근호   \n",
       "\n",
       "   dir_prev_bfnum  dir_prev_num  num_staff  num_actor  box_off_num  \n",
       "0            0.00             0         91          2        23398  \n",
       "1      1161602.50             2        387          3      7072501  \n",
       "2       220775.25             4        343          4      6959083  \n",
       "3        23894.00             2         20          6       217866  \n",
       "4            1.00             1        251          2       483387  "
      ]
     },
     "execution_count": 29,
     "metadata": {},
     "output_type": "execute_result"
    }
   ],
   "source": [
    "train.head()"
   ]
  },
  {
   "cell_type": "code",
   "execution_count": 30,
   "metadata": {},
   "outputs": [],
   "source": [
    "k_fold = KFold(n_splits=5, shuffle=True, random_state=777)"
   ]
  },
  {
   "cell_type": "code",
   "execution_count": 31,
   "metadata": {},
   "outputs": [
    {
     "name": "stdout",
     "output_type": "stream",
     "text": [
      "Training until validation scores don't improve for 100 rounds\n",
      "[100]\tvalid_0's l2: 2.70572e+12\n",
      "Early stopping, best iteration is:\n",
      "[6]\tvalid_0's l2: 2.45438e+12\n",
      "Training until validation scores don't improve for 100 rounds\n",
      "[100]\tvalid_0's l2: 3.90847e+12\n",
      "Early stopping, best iteration is:\n",
      "[33]\tvalid_0's l2: 3.72825e+12\n",
      "Training until validation scores don't improve for 100 rounds\n",
      "[100]\tvalid_0's l2: 3.50344e+12\n",
      "Early stopping, best iteration is:\n",
      "[8]\tvalid_0's l2: 2.58737e+12\n",
      "Training until validation scores don't improve for 100 rounds\n",
      "[100]\tvalid_0's l2: 1.45977e+12\n",
      "Early stopping, best iteration is:\n",
      "[11]\tvalid_0's l2: 1.26226e+12\n",
      "Training until validation scores don't improve for 100 rounds\n",
      "[100]\tvalid_0's l2: 1.77214e+12\n",
      "Early stopping, best iteration is:\n",
      "[22]\tvalid_0's l2: 1.57631e+12\n"
     ]
    }
   ],
   "source": [
    "model = lgb.LGBMRegressor(random_state=777, n_estimators=1000)\n",
    "\n",
    "models = []\n",
    "\n",
    "for train_idx, val_idx in k_fold.split(X_train):\n",
    "    x_t = X_train.iloc[train_idx]\n",
    "    y_t = y_train.iloc[train_idx]\n",
    "    x_val = X_train.iloc[val_idx]\n",
    "    y_val = y_train.iloc[val_idx]\n",
    "    \n",
    "    models.append(model.fit(x_t, y_t, eval_set=(x_val, y_val), early_stopping_rounds=100, verbose = 100))"
   ]
  },
  {
   "cell_type": "code",
   "execution_count": 32,
   "metadata": {},
   "outputs": [
    {
     "data": {
      "text/plain": [
       "5"
      ]
     },
     "execution_count": 32,
     "metadata": {},
     "output_type": "execute_result"
    }
   ],
   "source": [
    "preds = []\n",
    "for model in models:\n",
    "    preds.append(model.predict(X_test))\n",
    "len(preds)"
   ]
  },
  {
   "cell_type": "code",
   "execution_count": 33,
   "metadata": {},
   "outputs": [],
   "source": [
    "kfoldLightGBM = submission.copy()"
   ]
  },
  {
   "cell_type": "code",
   "execution_count": 34,
   "metadata": {},
   "outputs": [],
   "source": [
    "import numpy as np"
   ]
  },
  {
   "cell_type": "code",
   "execution_count": 35,
   "metadata": {},
   "outputs": [],
   "source": [
    "kfoldLightGBM['box_off_num'] = np.mean(preds, axis = 0)"
   ]
  },
  {
   "cell_type": "code",
   "execution_count": 36,
   "metadata": {},
   "outputs": [],
   "source": [
    "kfoldLightGBM.to_csv('kfoldLightGBM.csv', index = False)"
   ]
  },
  {
   "cell_type": "markdown",
   "metadata": {},
   "source": [
    "# 추가하기"
   ]
  },
  {
   "cell_type": "code",
   "execution_count": 37,
   "metadata": {},
   "outputs": [
    {
     "data": {
      "text/plain": [
       "['time', 'dir_prev_num', 'num_staff', 'num_actor']"
      ]
     },
     "execution_count": 37,
     "metadata": {},
     "output_type": "execute_result"
    }
   ],
   "source": [
    "features"
   ]
  },
  {
   "cell_type": "code",
   "execution_count": 38,
   "metadata": {
    "scrolled": true
   },
   "outputs": [
    {
     "data": {
      "text/plain": [
       "Index(['title', 'distributor', 'genre', 'release_time', 'time',\n",
       "       'screening_rat', 'director', 'dir_prev_bfnum', 'dir_prev_num',\n",
       "       'num_staff', 'num_actor', 'box_off_num'],\n",
       "      dtype='object')"
      ]
     },
     "execution_count": 38,
     "metadata": {},
     "output_type": "execute_result"
    }
   ],
   "source": [
    "train.columns"
   ]
  },
  {
   "cell_type": "code",
   "execution_count": 39,
   "metadata": {},
   "outputs": [
    {
     "data": {
      "text/plain": [
       "0       액션\n",
       "1      느와르\n",
       "2       액션\n",
       "3      코미디\n",
       "4      코미디\n",
       "      ... \n",
       "595    드라마\n",
       "596    드라마\n",
       "597     공포\n",
       "598    느와르\n",
       "599     액션\n",
       "Name: genre, Length: 600, dtype: object"
      ]
     },
     "execution_count": 39,
     "metadata": {},
     "output_type": "execute_result"
    }
   ],
   "source": [
    "train.genre"
   ]
  },
  {
   "cell_type": "code",
   "execution_count": 40,
   "metadata": {},
   "outputs": [],
   "source": [
    "from sklearn import preprocessing\n",
    "le = preprocessing.LabelEncoder()\n",
    "train['genre'] = le.fit_transform(train['genre'])"
   ]
  },
  {
   "cell_type": "markdown",
   "metadata": {},
   "source": [
    "각 열에 맞는 라벨링"
   ]
  },
  {
   "cell_type": "code",
   "execution_count": 41,
   "metadata": {},
   "outputs": [],
   "source": [
    "test['genre'] = le.transform(test['genre'])"
   ]
  },
  {
   "cell_type": "markdown",
   "metadata": {},
   "source": [
    "# 꼭 트랜스폼 할것!"
   ]
  },
  {
   "cell_type": "code",
   "execution_count": 42,
   "metadata": {},
   "outputs": [],
   "source": [
    "features = ['time', 'dir_prev_num', 'num_staff', 'num_actor', 'genre']"
   ]
  },
  {
   "cell_type": "code",
   "execution_count": 43,
   "metadata": {
    "scrolled": true
   },
   "outputs": [
    {
     "data": {
      "text/plain": [
       "['time', 'dir_prev_num', 'num_staff', 'num_actor', 'genre']"
      ]
     },
     "execution_count": 43,
     "metadata": {},
     "output_type": "execute_result"
    }
   ],
   "source": [
    "features"
   ]
  },
  {
   "cell_type": "code",
   "execution_count": 44,
   "metadata": {},
   "outputs": [],
   "source": [
    "X_train, X_test, y_train = train[features], test[features], train[target]"
   ]
  },
  {
   "cell_type": "code",
   "execution_count": 45,
   "metadata": {},
   "outputs": [
    {
     "name": "stdout",
     "output_type": "stream",
     "text": [
      "Training until validation scores don't improve for 100 rounds\n",
      "[100]\tvalid_0's l2: 2.62894e+12\n",
      "Early stopping, best iteration is:\n",
      "[8]\tvalid_0's l2: 2.45403e+12\n",
      "Training until validation scores don't improve for 100 rounds\n",
      "[100]\tvalid_0's l2: 4.05059e+12\n",
      "Early stopping, best iteration is:\n",
      "[42]\tvalid_0's l2: 3.81818e+12\n",
      "Training until validation scores don't improve for 100 rounds\n",
      "[100]\tvalid_0's l2: 3.3861e+12\n",
      "Early stopping, best iteration is:\n",
      "[13]\tvalid_0's l2: 2.48576e+12\n",
      "Training until validation scores don't improve for 100 rounds\n",
      "[100]\tvalid_0's l2: 1.43747e+12\n",
      "Early stopping, best iteration is:\n",
      "[11]\tvalid_0's l2: 1.22816e+12\n",
      "Training until validation scores don't improve for 100 rounds\n",
      "[100]\tvalid_0's l2: 1.74305e+12\n",
      "Early stopping, best iteration is:\n",
      "[24]\tvalid_0's l2: 1.5505e+12\n"
     ]
    }
   ],
   "source": [
    "model = lgb.LGBMRegressor(random_state=777, n_estimators=1000)\n",
    "\n",
    "models = []\n",
    "\n",
    "for train_idx, val_idx in k_fold.split(X_train):\n",
    "    x_t = X_train.iloc[train_idx]\n",
    "    y_t = y_train.iloc[train_idx]\n",
    "    x_val = X_train.iloc[val_idx]\n",
    "    y_val = y_train.iloc[val_idx]\n",
    "    \n",
    "    models.append(model.fit(x_t, y_t, eval_set=(x_val, y_val), early_stopping_rounds=100, verbose = 100))"
   ]
  },
  {
   "cell_type": "code",
   "execution_count": 46,
   "metadata": {},
   "outputs": [
    {
     "data": {
      "text/plain": [
       "5"
      ]
     },
     "execution_count": 46,
     "metadata": {},
     "output_type": "execute_result"
    }
   ],
   "source": [
    "preds = []\n",
    "for model in models:\n",
    "    preds.append(model.predict(X_test))\n",
    "len(preds)"
   ]
  },
  {
   "cell_type": "code",
   "execution_count": 47,
   "metadata": {},
   "outputs": [],
   "source": [
    "feLightGBM = submission.copy()"
   ]
  },
  {
   "cell_type": "code",
   "execution_count": 48,
   "metadata": {},
   "outputs": [],
   "source": [
    "feLightGBM['box_off_num'] = np.mean(preds, axis = 0)"
   ]
  },
  {
   "cell_type": "code",
   "execution_count": 49,
   "metadata": {},
   "outputs": [],
   "source": [
    "feLightGBM.to_csv('feLightGBM.csv', index = False)"
   ]
  },
  {
   "cell_type": "markdown",
   "metadata": {},
   "source": [
    "# Grid Search"
   ]
  },
  {
   "cell_type": "code",
   "execution_count": 50,
   "metadata": {},
   "outputs": [],
   "source": [
    "from sklearn.model_selection import GridSearchCV"
   ]
  },
  {
   "cell_type": "code",
   "execution_count": 51,
   "metadata": {},
   "outputs": [],
   "source": [
    "model = lgb.LGBMRegressor(random_state = 777, n_estimators = 1000)\n",
    "\n",
    "params = {\n",
    "    'learning_rate' : [0.0023,0.0025,0.0027],\n",
    "    'min_child_samples' : [46,48,50]\n",
    "}\n",
    "\n",
    "gs = GridSearchCV(estimator=model,\n",
    "                 param_grid=params,\n",
    "                 scoring='neg_mean_squared_error',\n",
    "                 cv = k_fold)"
   ]
  },
  {
   "cell_type": "code",
   "execution_count": 52,
   "metadata": {},
   "outputs": [
    {
     "data": {
      "text/plain": [
       "GridSearchCV(cv=KFold(n_splits=5, random_state=777, shuffle=True),\n",
       "             error_score=nan,\n",
       "             estimator=LGBMRegressor(boosting_type='gbdt', class_weight=None,\n",
       "                                     colsample_bytree=1.0,\n",
       "                                     importance_type='split', learning_rate=0.1,\n",
       "                                     max_depth=-1, min_child_samples=20,\n",
       "                                     min_child_weight=0.001, min_split_gain=0.0,\n",
       "                                     n_estimators=1000, n_jobs=-1,\n",
       "                                     num_leaves=31, objective=None,\n",
       "                                     random_state=777, reg_alpha=0.0,\n",
       "                                     reg_lambda=0.0, silent=True, subsample=1.0,\n",
       "                                     subsample_for_bin=200000,\n",
       "                                     subsample_freq=0),\n",
       "             iid='deprecated', n_jobs=None,\n",
       "             param_grid={'learning_rate': [0.0023, 0.0025, 0.0027],\n",
       "                         'min_child_samples': [46, 48, 50]},\n",
       "             pre_dispatch='2*n_jobs', refit=True, return_train_score=False,\n",
       "             scoring='neg_mean_squared_error', verbose=0)"
      ]
     },
     "execution_count": 52,
     "metadata": {},
     "output_type": "execute_result"
    }
   ],
   "source": [
    "gs.fit(X_train, y_train)"
   ]
  },
  {
   "cell_type": "code",
   "execution_count": 53,
   "metadata": {},
   "outputs": [
    {
     "data": {
      "text/plain": [
       "{'learning_rate': 0.0023, 'min_child_samples': 48}"
      ]
     },
     "execution_count": 53,
     "metadata": {},
     "output_type": "execute_result"
    }
   ],
   "source": [
    "gs.best_params_"
   ]
  },
  {
   "cell_type": "code",
   "execution_count": 59,
   "metadata": {},
   "outputs": [
    {
     "name": "stdout",
     "output_type": "stream",
     "text": [
      "Training until validation scores don't improve for 100 rounds\n",
      "[100]\tvalid_0's l2: 2.5453e+12\n",
      "[200]\tvalid_0's l2: 2.38178e+12\n",
      "[300]\tvalid_0's l2: 2.29057e+12\n",
      "[400]\tvalid_0's l2: 2.24278e+12\n",
      "[500]\tvalid_0's l2: 2.21696e+12\n",
      "[600]\tvalid_0's l2: 2.20768e+12\n",
      "[700]\tvalid_0's l2: 2.21336e+12\n",
      "Early stopping, best iteration is:\n",
      "[626]\tvalid_0's l2: 2.20721e+12\n",
      "Training until validation scores don't improve for 100 rounds\n",
      "[100]\tvalid_0's l2: 5.07113e+12\n",
      "[200]\tvalid_0's l2: 4.65171e+12\n",
      "[300]\tvalid_0's l2: 4.36823e+12\n",
      "[400]\tvalid_0's l2: 4.16075e+12\n",
      "[500]\tvalid_0's l2: 4.01091e+12\n",
      "[600]\tvalid_0's l2: 3.90517e+12\n",
      "[700]\tvalid_0's l2: 3.8404e+12\n",
      "[800]\tvalid_0's l2: 3.80219e+12\n",
      "[900]\tvalid_0's l2: 3.77536e+12\n",
      "[1000]\tvalid_0's l2: 3.75779e+12\n",
      "Did not meet early stopping. Best iteration is:\n",
      "[998]\tvalid_0's l2: 3.75747e+12\n",
      "Training until validation scores don't improve for 100 rounds\n",
      "[100]\tvalid_0's l2: 3.31417e+12\n",
      "[200]\tvalid_0's l2: 3.01033e+12\n",
      "[300]\tvalid_0's l2: 2.79939e+12\n",
      "[400]\tvalid_0's l2: 2.6483e+12\n",
      "[500]\tvalid_0's l2: 2.54437e+12\n",
      "[600]\tvalid_0's l2: 2.4742e+12\n",
      "[700]\tvalid_0's l2: 2.42263e+12\n",
      "[800]\tvalid_0's l2: 2.39409e+12\n",
      "[900]\tvalid_0's l2: 2.36992e+12\n",
      "[1000]\tvalid_0's l2: 2.35196e+12\n",
      "Did not meet early stopping. Best iteration is:\n",
      "[1000]\tvalid_0's l2: 2.35196e+12\n",
      "Training until validation scores don't improve for 100 rounds\n",
      "[100]\tvalid_0's l2: 1.69236e+12\n",
      "[200]\tvalid_0's l2: 1.46562e+12\n",
      "[300]\tvalid_0's l2: 1.32748e+12\n",
      "[400]\tvalid_0's l2: 1.24447e+12\n",
      "[500]\tvalid_0's l2: 1.1997e+12\n",
      "[600]\tvalid_0's l2: 1.17955e+12\n",
      "[700]\tvalid_0's l2: 1.17284e+12\n",
      "[800]\tvalid_0's l2: 1.17182e+12\n",
      "[900]\tvalid_0's l2: 1.1734e+12\n",
      "Early stopping, best iteration is:\n",
      "[817]\tvalid_0's l2: 1.17175e+12\n",
      "Training until validation scores don't improve for 100 rounds\n",
      "[100]\tvalid_0's l2: 2.09815e+12\n",
      "[200]\tvalid_0's l2: 1.86951e+12\n",
      "[300]\tvalid_0's l2: 1.7131e+12\n",
      "[400]\tvalid_0's l2: 1.60306e+12\n",
      "[500]\tvalid_0's l2: 1.52765e+12\n",
      "[600]\tvalid_0's l2: 1.47878e+12\n",
      "[700]\tvalid_0's l2: 1.44952e+12\n",
      "[800]\tvalid_0's l2: 1.43714e+12\n",
      "[900]\tvalid_0's l2: 1.43048e+12\n",
      "[1000]\tvalid_0's l2: 1.42874e+12\n",
      "Did not meet early stopping. Best iteration is:\n",
      "[977]\tvalid_0's l2: 1.42818e+12\n"
     ]
    }
   ],
   "source": [
    "model = lgb.LGBMRegressor(random_state = 777, n_estimators = 1000, learning_rate = 0.0023 , min_child_samples=48)\n",
    "\n",
    "models = []\n",
    "\n",
    "for train_idx, val_idx in k_fold.split(X_train):\n",
    "    x_t = X_train.iloc[train_idx]\n",
    "    y_t = y_train.iloc[train_idx]\n",
    "    x_val = X_train.iloc[val_idx]\n",
    "    y_val = y_train.iloc[val_idx]\n",
    "    \n",
    "    models.append(model.fit(x_t, y_t, eval_set=(x_val, y_val), early_stopping_rounds=100, verbose = 100))"
   ]
  },
  {
   "cell_type": "code",
   "execution_count": 60,
   "metadata": {},
   "outputs": [],
   "source": [
    "preds = []\n",
    "for model in models:\n",
    "    preds.append(model.predict(X_test))"
   ]
  },
  {
   "cell_type": "code",
   "execution_count": 62,
   "metadata": {},
   "outputs": [
    {
     "data": {
      "text/plain": [
       "-2278977758786.757"
      ]
     },
     "execution_count": 62,
     "metadata": {},
     "output_type": "execute_result"
    }
   ],
   "source": [
    "gs.best_score_"
   ]
  },
  {
   "cell_type": "code",
   "execution_count": 63,
   "metadata": {},
   "outputs": [],
   "source": [
    "gslgbm = submission.copy()"
   ]
  },
  {
   "cell_type": "code",
   "execution_count": 64,
   "metadata": {},
   "outputs": [],
   "source": [
    "gslgbm['box_off_num'] = np.mean(preds, axis = 0)"
   ]
  },
  {
   "cell_type": "code",
   "execution_count": 65,
   "metadata": {},
   "outputs": [],
   "source": [
    "gslgbm.to_csv('gslgbm.csv', index=False)"
   ]
  },
  {
   "cell_type": "code",
   "execution_count": null,
   "metadata": {},
   "outputs": [],
   "source": []
  }
 ],
 "metadata": {
  "kernelspec": {
   "display_name": "Python 3",
   "language": "python",
   "name": "python3"
  },
  "language_info": {
   "codemirror_mode": {
    "name": "ipython",
    "version": 3
   },
   "file_extension": ".py",
   "mimetype": "text/x-python",
   "name": "python",
   "nbconvert_exporter": "python",
   "pygments_lexer": "ipython3",
   "version": "3.7.6"
  }
 },
 "nbformat": 4,
 "nbformat_minor": 4
}
