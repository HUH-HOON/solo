{
  "nbformat": 4,
  "nbformat_minor": 0,
  "metadata": {
    "colab": {
      "name": "Bus.ipynb의 사본",
      "provenance": [],
      "private_outputs": true,
      "collapsed_sections": [],
      "toc_visible": true
    },
    "kernelspec": {
      "name": "python3",
      "display_name": "Python 3"
    },
    "accelerator": "GPU"
  },
  "cells": [
    {
      "cell_type": "markdown",
      "metadata": {
        "id": "77x5xuAUomXY",
        "colab_type": "text"
      },
      "source": [
        "# 데이터\n",
        "\n",
        "\n",
        "\n",
        "( train, test , bus_bts 공통 사항)\n",
        "\n",
        "해당 데이터에는 버스카드를 통해 결제를 한 경우에 대한 정류소 승, 하차 데이터로 모든 승차정보의 경우는 기록이 되어있지만, \n",
        "\n",
        "버스에서 하차를 할 때, 버스카드를 찍지 않는 경우, 해당 기록이 비어 있는 상태입니다. 따라서, 승차 인원수와 하차 인원수가 동일하지 않고 다소 차이가 있음을 미리 알려드립니다.\n",
        "\n",
        "\n",
        "\n",
        "(train, test csv 공통사항)\n",
        "\n",
        "해당 버스정류장에 대한 각각의 위도, 경도가 제공이 되어있는 상태로 같은 정류장 이름이지만 위도와 경도가 서로 다른 경우가 존재합니다. \n",
        "\n",
        "해당 경우는, 같은 정류장 이름을 가지고 있는 길 건너편의 정류장에 해당이 됩니다.\n",
        "\n",
        " \n",
        "\n",
        "\n",
        "\n",
        " 1. train.csv and test.csv\n",
        "\n",
        " \n",
        "\n",
        "train.csv 의 경우, 2019년 9월 제주도의 각 날짜, 출근시간(6시~12시)의 버스 정류장별 승하차 인원, 퇴근시간(18시~20시)의 버스 정류장별 승차 인원이 기록되어 있습니다.\n",
        "\n",
        "test.csv의 경우, 2019년 10월의 각 날짜, 출근시간(오전 6시~12시)의 버스 정류장별 승하차 인원이 기록되어 있습니다.\n",
        "\n",
        "\n",
        "\n",
        "2. bus_bts.csv\n",
        "\n",
        " \n",
        "\n",
        "bus_bts의 경우, 버스카드별로 승하차 정보가 기록이 되어있습니다. 해당 데이터는 탑승 시간대가오전 6시부터 12시 사이인 경우만 있습니다.\n",
        "\n",
        "\n",
        "\n",
        "3.     submission_제출양식.csv \n",
        "\n",
        " \n",
        "\n",
        "submission_제출양식의 경우, test data의 ID와 목표변수인 18시~20시 승차 인원로만 이루어져 있습니다.\n",
        "\n",
        "참가자분들께서는 test.csv에서 ID와 예측값을 결합하여, 해당 submission_제출양식.csv 파일형식 처럼 만든 이후,\n",
        "\n",
        "해당 제출 파일 양식 그대로(변수명 포함된 상태) 제출을 해주시면 됩니다\n",
        "\n",
        "\n",
        "\n",
        "추가 사용 가능 데이터\n",
        "\n",
        "      a) (8회 kcb 시각화 대회의 제주도 금융라이프 데이터(jeju_financial_life_data.csv)\n",
        "\n",
        "      b) 행정동별 위도 경도 데이터 https://dacon.io/?module=file&act=procFileDownload&file_srl=244977&sid=8cd192144ab18be0e02e4a16f851729b&module_srl=228539  \n",
        "      (H - 행정동, B - 법정동)\n"
      ]
    },
    {
      "cell_type": "markdown",
      "metadata": {
        "id": "ktr-RsvbwTRu",
        "colab_type": "text"
      },
      "source": [
        "train.csv & test.csv\n",
        "1. id: 해당 데이터에서의 고유한 ID(train, test와의 중복은 없음)\n",
        "2. date: 날짜\n",
        "3. bus_route_id: 노선ID \n",
        "4. in_out: 시내버스, 시외버스 구분\n",
        "5. station_code: 해당 승하차 정류소의 ID\n",
        "6. station_name: 해당 승하차 정류소의 이름\n",
        "7. latitude: 해당 버스 정류장의 위도 (같은 정류장 이름이어도 버스의 진행 방향에 따라 다를 수 있음)\n",
        "8. longitude: 해당 버스 정류장의 경도 (같은 정류장 이름이어도 버스의 진행 방향에 따라 다를 수 있음)\n",
        "9. X~Y_ride: X:00:00부터 X:59:59까지 승차한 인원 수\n",
        "10. X_Y_takeoff: X:00:00부터 X:59:59까지 하차한 인원 수\n",
        "11. 18~20_ride: 18:00:00부터 19:59:59까지 승차한 인원 수 (train data에만 존재)\n"
      ]
    },
    {
      "cell_type": "markdown",
      "metadata": {
        "id": "zPehBN9Nyh_q",
        "colab_type": "text"
      },
      "source": [
        "bus_bts.csv\n",
        "1. user_card_id: 해당 승객의 버스카드ID\n",
        "2. bus_route_id: 노선ID\n",
        "3. vhc_id: 차량ID\n",
        "4. geton_date: 해당 승객이 탑승한 날짜\n",
        "5. geton_time: 해당 승객이 탑승한 시간\n",
        "6. geton_station_code: 승차정류소의 ID\n",
        "7. geton_station_name: 승차정류소의 이름\n",
        "8. getoff_date: 해당 승객이 하차한 날짜 (하차태그 없는 경우, NaN)\n",
        "9. getoff_time: 해당 승객이 하차한 시간 (하차태그 없는 경우, NaN)\n",
        "10. getoff_station_code: 하차정류소의 ID (하차태그 없는 경우, NaN)\n",
        "11. getoff_station_name: 하차정류소의 이름 (하차태그 없는 경우, NaN)\n",
        "12. user_category: 승객 구분 (01-일반, 02-어린이, 04-청소년, 06-경로, 27-장애 일반, 28-장애 동반, 29-유공 일반, 30-유공 동반)\n",
        "13. user_count: 해당 버스카드로 계산한 인원수 ( ex- 3은 3명 분의 버스비를 해당 카드 하나로 계산한 것)\n",
        "\n",
        "\n",
        "\n",
        "\n",
        "\n",
        "\n"
      ]
    },
    {
      "cell_type": "markdown",
      "metadata": {
        "id": "K3ruKJRNg1In",
        "colab_type": "text"
      },
      "source": [
        "### $$RMSE(\\theta_1, \\theta_2) = \\sqrt{MSE(\\theta_1,\\theta_2)} = \\sqrt{E((\\theta_1-\\theta_2)^2)} = \\sqrt{{\\sum_{i=1}^n(x_{1,i}-x_{2,i})^2}\\over n}$$"
      ]
    },
    {
      "cell_type": "markdown",
      "metadata": {
        "id": "wa78tWcbenGP",
        "colab_type": "text"
      },
      "source": [
        "## 1.preprocessing\n",
        "\n",
        "### 1) cleaning\n",
        "- bus route id 0000제거\n",
        "- station name 띄어쓰기 제거\n",
        "- 위도, 경도 round해서 사용\n",
        "\n",
        "### 2)combine\n",
        "- bus rout id + station code\n",
        "- bus rout id + 위도, 경 보 정보\n",
        "\n",
        "## 3. outlier remove\n",
        "- train, test data 두 데이터셋 모두 존재하는 데이터만 사용\n",
        "\n",
        "## 4. agg feature\n",
        "- day 기준, 평균/80 백분위수 데이터 집계함수 사용\n",
        "- day 기준, (bus route id, station code, station name) 평균/80 백분위수 데이터로 집계함수 사용\n",
        "\n",
        "## 5. frequency encoding\n",
        "- bus route id, station code, station name 등의 categorical 변수의 경우 빈도수를 계산해 줌으로써 모델에 다양한 정보를 주었음"
      ]
    },
    {
      "cell_type": "markdown",
      "metadata": {
        "id": "CNUcZdPbXLkY",
        "colab_type": "text"
      },
      "source": [
        "# 파생변수 추가\n",
        "- 시내 / 시외 구분 (원핫 인코딩)\n",
        "- 내륙 (1) / 이외 섬 정류장 (0) - coordinate 데이터셋에서 제주시 / 나머지 구분 후 train/test셋에 적용\n",
        "- 주중(0), 주말 및 공휴일(추석, 한글날, 개천절)(1)\n",
        "\n",
        "- (이건 일단 무시) ???? 학교, 공항, 환승, 터미널 등 혼잡 정류장 (1) / 이외 정류장 (0)\n",
        "\n",
        "- 시간대 2시간 단위로 통합 (타겟 시간대와 동일한 단위 적용하기 위함)\n",
        "\n",
        "- 날씨 비오는 날(1), 안 오는날(0)\n",
        "\n",
        "-  Bus_bts 데이터를 train/test set에 통합하기\n",
        "    - Bus_bts 셋 탑승 시간대 나누기\n",
        "    - User count : 승하차 인원인데 train/test set 하고 기준이 다른데 처리 어떻게 함? -> 동일 데이터(날짜, 탑승 시간대, 경로) 기준으로 for 문 돌려서 입히기"
      ]
    },
    {
      "cell_type": "markdown",
      "metadata": {
        "id": "ER2bbC-EGkhW",
        "colab_type": "text"
      },
      "source": [
        "1st week - EDA\n",
        "기본 baseline을 바탕으로 매주 모든 조원들의 EDA자료를 통합하여 제작하였습니다.\n",
        "\n",
        "데이터 명세\n",
        "id : 해당 데이터의 고유한 ID (train, test와의 중복은 없음)\n",
        "\n",
        "date : 날짜\n",
        "\n",
        "bus_route_id : 노선 id\n",
        "\n",
        "in_out : 시내버스, 시외버스 구분 (categorical)\n",
        "\n",
        "station_code : 해당 승하차 정류소의 ID\n",
        "\n",
        "station_name : 해당 승하차 정류소의 이름\n",
        "\n",
        "latitude : 해당 버스 정류장의 위도\n",
        "\n",
        "longitude : 해당 버스 정류장의 경도\n",
        "\n",
        "*** 같은 위도경도여도 진행 방향에 따라 정류장이 다를수 있음.\n",
        "X-Y ride : 00:00부터 59:59까지 승차한 인원수\n",
        "\n",
        "X-Y takeoff : 00:00부터 59:59까지 하차한 인원수\n",
        "\n",
        "18-20 ride : 18:00:00부터 19:59:59까지 승차한 인원 수 (train data에만 존재, 예측해야할 target)"
      ]
    },
    {
      "cell_type": "markdown",
      "metadata": {
        "id": "itepew5JGov1",
        "colab_type": "text"
      },
      "source": [
        "0. Package & Data Load"
      ]
    },
    {
      "cell_type": "code",
      "metadata": {
        "id": "_pb5wGk5Tp5H",
        "colab_type": "code",
        "colab": {}
      },
      "source": [
        "from google.colab import drive\n",
        "drive.mount('/content/drive')"
      ],
      "execution_count": null,
      "outputs": []
    },
    {
      "cell_type": "markdown",
      "metadata": {
        "id": "kLscKfSCdQ7c",
        "colab_type": "text"
      },
      "source": [
        "# Data_Path, import"
      ]
    },
    {
      "cell_type": "code",
      "metadata": {
        "id": "394o6uCVUHPJ",
        "colab_type": "code",
        "colab": {}
      },
      "source": [
        "import pandas as pd\n",
        "import numpy as np\n",
        "import matplotlib.pyplot as plt\n",
        "import seaborn as sns\n",
        "plt.style.use('seaborn')\n",
        "sns.set(font_scale=2.5)\n",
        "import datetime\n",
        "import missingno as msno\n",
        "import warnings\n",
        "warnings.filterwarnings('ignore')\n",
        "from collections import Counter # count\n",
        "%matplotlib inline\n",
        "\n",
        "import requests\n",
        "import calendar\n",
        "from bs4 import BeautifulSoup\n",
        "\n",
        "# 지도 관련 시각화 \n",
        "import folium \n",
        "from folium.plugins import MarkerCluster \n",
        "import geopy.distance \n",
        "\n",
        "\n",
        "#데이터 샘플링\n",
        "import random\n",
        "from sklearn.preprocessing import LabelEncoder #인코딩\n",
        "from sklearn.preprocessing import OneHotEncoder\n",
        "\n",
        "#validation\n",
        "from sklearn.model_selection import KFold \n",
        "from sklearn.model_selection import GridSearchCV \n",
        "\n",
        "#model\n",
        "import lightgbm as lgbm \n",
        "\n",
        "#processing bar\n",
        "from tqdm import tqdm_notebook"
      ],
      "execution_count": null,
      "outputs": []
    },
    {
      "cell_type": "code",
      "metadata": {
        "id": "R0KNBJxKUW6q",
        "colab_type": "code",
        "colab": {}
      },
      "source": [
        "data_path = '/content/drive/My Drive/Dacon/data13/'"
      ],
      "execution_count": null,
      "outputs": []
    },
    {
      "cell_type": "markdown",
      "metadata": {
        "id": "Rv_DQ_j_dVr_",
        "colab_type": "text"
      },
      "source": [
        "# bus_bts, submission_sample, test, train, coordinate -> coordinate_jeju(제주좌표)"
      ]
    },
    {
      "cell_type": "code",
      "metadata": {
        "id": "PUUspZyJUZtj",
        "colab_type": "code",
        "colab": {}
      },
      "source": [
        "bus_bts = pd.read_csv(data_path + 'bus_bts.csv')\n",
        "bus_bts"
      ],
      "execution_count": null,
      "outputs": []
    },
    {
      "cell_type": "markdown",
      "metadata": {
        "id": "sPTueTsGws05",
        "colab_type": "text"
      },
      "source": [
        ""
      ]
    },
    {
      "cell_type": "code",
      "metadata": {
        "id": "Vlf6kScDUfN9",
        "colab_type": "code",
        "colab": {}
      },
      "source": [
        "submission_sample = pd.read_csv(data_path + 'submission_sample.csv')\n",
        "submission_sample"
      ],
      "execution_count": null,
      "outputs": []
    },
    {
      "cell_type": "code",
      "metadata": {
        "id": "f2Sj5OTmUkxq",
        "colab_type": "code",
        "colab": {}
      },
      "source": [
        "test = pd.read_csv(data_path + 'test.csv')\n",
        "test"
      ],
      "execution_count": null,
      "outputs": []
    },
    {
      "cell_type": "code",
      "metadata": {
        "id": "Q7Su2cdDVP5J",
        "colab_type": "code",
        "colab": {}
      },
      "source": [
        "train = pd.read_csv(data_path + 'train.csv')\n",
        "train"
      ],
      "execution_count": null,
      "outputs": []
    },
    {
      "cell_type": "code",
      "metadata": {
        "id": "_PlshZDVVWj0",
        "colab_type": "code",
        "colab": {}
      },
      "source": [
        "coordinate = pd.read_excel(data_path + '행정_법정동 중심좌표.xlsx')\n",
        "coordinate"
      ],
      "execution_count": null,
      "outputs": []
    },
    {
      "cell_type": "code",
      "metadata": {
        "id": "EF5-lkWDV3VL",
        "colab_type": "code",
        "colab": {}
      },
      "source": [
        "coordinate_jeju = coordinate[coordinate['시도'] == '제주특별자치도']\n",
        "coordinate_jeju"
      ],
      "execution_count": null,
      "outputs": []
    },
    {
      "cell_type": "code",
      "metadata": {
        "id": "gFoiHRhzxY2C",
        "colab_type": "code",
        "colab": {}
      },
      "source": [
        "#train과 test의 column 차이 : 우리가 구해야할 타겟 18~20_ride\n",
        "set(train.columns)-set(test.columns)"
      ],
      "execution_count": null,
      "outputs": []
    },
    {
      "cell_type": "markdown",
      "metadata": {
        "id": "iB4d9eTxhtlp",
        "colab_type": "text"
      },
      "source": [
        "# data_list"
      ]
    },
    {
      "cell_type": "markdown",
      "metadata": {
        "id": "U8sd6qDDG-uh",
        "colab_type": "text"
      },
      "source": [
        "특이점 1. target인 \n",
        "18~20ride분포가 대부분 0이다.\n",
        "날짜의 갯수가 날 마다 다른것을 보았을때 승차인원이 없거나하면 표기가 안된다? Yes.\n",
        "6시~12시 내린 승객이 한명도 없고, 탄 승객이 없을 경우 해당 로우 삭제한다? Yes.\n",
        "특정날짜, 루트에도 없다? => 승차 하차 승객 0 일 수 있기 때문에 0이라는 피쳐 추가 가능할것.\n",
        "Dacon 데이터 설명 중..\n",
        "버스에서 하차를 할 때, 버스카드를 찍지 않는 경우, 해당 기록이 비어 있는 상태입니다.\n",
        "따라서, 승차 인원수와 하차 인원수가 동일하지 않고 다소 차이가 있음을 미리 알려드립니다."
      ]
    },
    {
      "cell_type": "code",
      "metadata": {
        "id": "r4jXSymAWEL3",
        "colab_type": "code",
        "colab": {}
      },
      "source": [
        "data_list = [bus_bts, test, train, coordinate_jeju]"
      ],
      "execution_count": null,
      "outputs": []
    },
    {
      "cell_type": "markdown",
      "metadata": {
        "id": "mvXbnBSIZhQY",
        "colab_type": "text"
      },
      "source": [
        ""
      ]
    },
    {
      "cell_type": "code",
      "metadata": {
        "id": "YLfd3TQzXVaY",
        "colab_type": "code",
        "colab": {}
      },
      "source": [
        "for i in data_list:\n",
        "  print(i.describe())\n",
        "  print(i.head())\n",
        "  print(i.tail())\n",
        "  print(i.info())"
      ],
      "execution_count": null,
      "outputs": []
    },
    {
      "cell_type": "markdown",
      "metadata": {
        "id": "x1O4Ac4tXY_g",
        "colab_type": "text"
      },
      "source": [
        "# Missing Value Preprocessing"
      ]
    },
    {
      "cell_type": "code",
      "metadata": {
        "id": "2twuw-6-hyeQ",
        "colab_type": "code",
        "colab": {}
      },
      "source": [
        "for i in data_list:  \n",
        "  print(i.isnull().sum())"
      ],
      "execution_count": null,
      "outputs": []
    },
    {
      "cell_type": "code",
      "metadata": {
        "id": "nE3FaH7eiEBH",
        "colab_type": "code",
        "colab": {}
      },
      "source": [
        "coordinate_jeju_df = coordinate['하위'].fillna('리')\n",
        "coordinate_jeju_df\n",
        "coordinate_jeju_df.isnull().sum()"
      ],
      "execution_count": null,
      "outputs": []
    },
    {
      "cell_type": "code",
      "metadata": {
        "id": "jp2zm4kUjGJ4",
        "colab_type": "code",
        "colab": {}
      },
      "source": [
        "bus_bts.isnull().sum()"
      ],
      "execution_count": null,
      "outputs": []
    },
    {
      "cell_type": "code",
      "metadata": {
        "id": "f9WUvXoFlm-3",
        "colab_type": "code",
        "colab": {}
      },
      "source": [
        "bus_bts.info()"
      ],
      "execution_count": null,
      "outputs": []
    },
    {
      "cell_type": "code",
      "metadata": {
        "id": "ma3UwIku6Uqu",
        "colab_type": "code",
        "colab": {}
      },
      "source": [
        "bus_bts_df = bus_bts\n",
        "test_df = test\n",
        "train_df = train\n",
        "coordinate_jeju_df = coordinate_jeju\n",
        "data_list_df = [bus_bts_df, test_df, train_df, coordinate_jeju_df]"
      ],
      "execution_count": null,
      "outputs": []
    },
    {
      "cell_type": "code",
      "metadata": {
        "id": "zvU5FcUz6bAH",
        "colab_type": "code",
        "colab": {}
      },
      "source": [
        "bus_bts_df['geton_time'] = pd.to_datetime(bus_bts_df['geton_time'], format = '%H:%M:%S', errors = 'raise')\n",
        "bus_bts_df['geton_time'] = bus_bts_df['geton_time'].dt.round('15min')\n",
        "bus_bts_df['getoff_time'] = pd.to_datetime(bus_bts_df['getoff_time'], format = '%H:%M:%S', errors = 'raise')\n",
        "bus_bts_df['getoff_time'] = bus_bts_df['getoff_time'].dt.round('15min')"
      ],
      "execution_count": null,
      "outputs": []
    },
    {
      "cell_type": "markdown",
      "metadata": {
        "id": "LVygPDXK60N9",
        "colab_type": "text"
      },
      "source": [
        ""
      ]
    },
    {
      "cell_type": "markdown",
      "metadata": {
        "id": "5DgNyMXx6j-e",
        "colab_type": "text"
      },
      "source": [
        ""
      ]
    },
    {
      "cell_type": "markdown",
      "metadata": {
        "id": "2qsCMn8clffu",
        "colab_type": "text"
      },
      "source": [
        ""
      ]
    },
    {
      "cell_type": "code",
      "metadata": {
        "id": "Hn0NcbeElfx8",
        "colab_type": "code",
        "colab": {}
      },
      "source": [
        "bus_bts.head(20)"
      ],
      "execution_count": null,
      "outputs": []
    },
    {
      "cell_type": "markdown",
      "metadata": {
        "id": "ZxNjIlMag5qD",
        "colab_type": "text"
      },
      "source": [
        "## 전처리데이터 => 저장명 예시 : train -> train_df\n"
      ]
    },
    {
      "cell_type": "code",
      "metadata": {
        "id": "bg_Bi0KnFV4u",
        "colab_type": "code",
        "colab": {}
      },
      "source": [
        "#한번 더 확인\n",
        "print(train.isnull().sum())#train 결측값 개수 확인 \n",
        "print(\"-----------------------------\")\n",
        "print(test.isnull().sum()) #train 결측값 개수 확인 "
      ],
      "execution_count": null,
      "outputs": []
    },
    {
      "cell_type": "code",
      "metadata": {
        "id": "VZv7Z8vYFa7R",
        "colab_type": "code",
        "colab": {}
      },
      "source": [
        "target_col = '18~20_ride'\n",
        "train_df[target_col].value_counts().sort_index() #0의 분포가 압도적으로 많음."
      ],
      "execution_count": null,
      "outputs": []
    },
    {
      "cell_type": "code",
      "metadata": {
        "id": "7O4-jYbJHOuo",
        "colab_type": "code",
        "colab": {}
      },
      "source": [
        "# 탑승 columns, 하차 columns\n",
        "ride_columns = [col for col in test.columns if '_ride' in col]\n",
        "take_off_columns = [col for col in test.columns if '_takeoff' in col] \n",
        "\n",
        "# Train의 승차 칼럼들의 rowsum\n",
        "display( train[train[target_col]==0][ride_columns].sum(axis=1).agg(['min','max']) )\n",
        "\n",
        "# Train의 하차 칼럼들의 rowsum\n",
        "display( train[train[target_col]==0][take_off_columns].sum(axis=1).agg(['min','max']) )\n",
        "\n",
        "# Train의 승하차 합 칼럼들의 rowsum\n",
        "display( train[train[target_col]==0][ride_columns + take_off_columns].sum(axis=1).agg(['min','max']) )"
      ],
      "execution_count": null,
      "outputs": []
    },
    {
      "cell_type": "markdown",
      "metadata": {
        "id": "q8ZuEjfzd4ED",
        "colab_type": "text"
      },
      "source": [
        ""
      ]
    },
    {
      "cell_type": "markdown",
      "metadata": {
        "id": "zxtBeIFCkTmW",
        "colab_type": "text"
      },
      "source": [
        ""
      ]
    },
    {
      "cell_type": "code",
      "metadata": {
        "id": "vN4aOgjnmE4t",
        "colab_type": "code",
        "colab": {}
      },
      "source": [
        "train_df = train\n",
        "train_df"
      ],
      "execution_count": null,
      "outputs": []
    },
    {
      "cell_type": "markdown",
      "metadata": {
        "id": "W6mcI2CYHVMx",
        "colab_type": "text"
      },
      "source": [
        "특이점 2. Station_name과 code가 1:1 맵핑을 이루지 않는다.\n",
        "정류장 코드, 정류장 좌표는 1:1 매핑\n",
        "\n",
        "정류장 이름은 여러 정류장 코드를 가짐\n",
        "\n",
        "정류장 이름은 여러 정류장 좌표를 가짐\n",
        "\n",
        "결론 : 정류장 이름은 대표성을 갖지 않음."
      ]
    },
    {
      "cell_type": "code",
      "metadata": {
        "id": "-BG-I0WP3P6O",
        "colab_type": "code",
        "colab": {}
      },
      "source": [
        "#하나의 station name에 다수의 station_code 발견.\n",
        "multi_station = train_df.groupby('station_name')['station_code'].nunique().sort_values()\n",
        "multi_station[multi_station >= 7]"
      ],
      "execution_count": null,
      "outputs": []
    },
    {
      "cell_type": "code",
      "metadata": {
        "id": "FnmSxNTJ3Qf9",
        "colab_type": "code",
        "colab": {}
      },
      "source": [
        "train_df[train_df['station_name'].isin(multi_station.index)][['station_code', 'station_name', 'latitude', 'longitude']]\n",
        "\n",
        "#결국, station_code가 고유값임을 확인. 고유 정류장 기준을 station_name으로 설정하기에는 어려움."
      ],
      "execution_count": null,
      "outputs": []
    },
    {
      "cell_type": "code",
      "metadata": {
        "id": "44tg1GH53Rev",
        "colab_type": "code",
        "colab": {}
      },
      "source": [
        "len(train_df['station_code'].unique()), len(train_df['station_name'].unique())"
      ],
      "execution_count": null,
      "outputs": []
    },
    {
      "cell_type": "markdown",
      "metadata": {
        "id": "8luIeTgfHYzI",
        "colab_type": "text"
      },
      "source": [
        "특이점3. 버스 수요가 요일에 영향을 미치는가.\n",
        "7일주기로 승하차량이 급감하는 것을 알 수 있음\n",
        "요일이 승하차량에 영향을 미치는 것이라 추정 -> 요일 파생변수 생성\n",
        "요일이 승하차량에 영향을 미친다면 공휴일도 영향을 미칠 것이라 추정 -> 공휴일 정보 생성"
      ]
    },
    {
      "cell_type": "code",
      "metadata": {
        "id": "19jhv8uu3S6I",
        "colab_type": "code",
        "colab": {}
      },
      "source": [
        "ride_col_list = ['%d~%d_ride'%(i, i+1) for i in range(6, 12)] + ['18~20_ride']\n",
        "takeoff_col_list = ['%d~%d_takeoff'%(i, i+1) for i in range(6, 12)] + ['18~20_ride']"
      ],
      "execution_count": null,
      "outputs": []
    },
    {
      "cell_type": "code",
      "metadata": {
        "id": "b1hWV6g73UGT",
        "colab_type": "code",
        "colab": {}
      },
      "source": [
        "df_date_ride = train_df.groupby(['date']).sum()[ride_col_list].stack().reset_index()\n",
        "df_date_ride.columns = ['date', 'ride_time', 'count']\n",
        "df_date_ride['date_disp'] = df_date_ride['date'].apply(lambda x: x[5:])\n",
        "df_date_takeoff = train_df.groupby(['date']).sum()[takeoff_col_list].stack().reset_index()\n",
        "df_date_takeoff.columns = ['date', 'takeoff_time', 'count']\n",
        "df_date_takeoff['date_disp'] = df_date_takeoff['date'].apply(lambda x: x[5:])\n",
        "df_date_takeoff.head(5)"
      ],
      "execution_count": null,
      "outputs": []
    },
    {
      "cell_type": "code",
      "metadata": {
        "id": "xo1LHKrl3W5z",
        "colab_type": "code",
        "colab": {}
      },
      "source": [
        "f, axes = plt.subplots(2, 1, figsize=(30, 10), sharex=True)\n",
        "\n",
        "axes[0].set(title='일별 승차량 증감')\n",
        "sns.lineplot(x='date_disp', y='count', hue='ride_time', data=df_date_ride, ax=axes[0])\n",
        "\n",
        "axes[1].set(title='일별 하차량 증감')\n",
        "sns.lineplot(x='date_disp', y='count', hue='takeoff_time', data=df_date_takeoff, ax=axes[1])"
      ],
      "execution_count": null,
      "outputs": []
    },
    {
      "cell_type": "code",
      "metadata": {
        "id": "WPjY1SS93X4t",
        "colab_type": "code",
        "colab": {}
      },
      "source": [
        "holidays = ['01-01', '02-04', '02-05', '02-06', '03-01', '05-05', '05-06', '05-12', '06-06', '08-15',\n",
        "            '09-12', '09-13', '09-14', '10-03', '10-09', '12-25']\n",
        "holidays = ['2019-'+day for day in holidays]\n",
        "\n",
        "train_df['weekday'] = train_df['date'].apply(lambda x: datetime.datetime.strptime(x, \"%Y-%m-%d\").strftime(\"%A\"))\n",
        "train_df['holiday'] = train_df.apply(lambda row: 'Y' if row.date in holidays else 'N', axis=1)\n",
        "train_df['holiweekend'] = train_df.apply(lambda row: 'H' if row.holiday == 'Y' else 'N', axis=1)\n",
        "train_df['holiweekend'] = train_df.apply(lambda row: 'WE' if row.holiweekend =='N' and row.weekday in ['Saturday', 'Sunday'] else row.holiweekend, axis=1)"
      ],
      "execution_count": null,
      "outputs": []
    },
    {
      "cell_type": "code",
      "metadata": {
        "id": "nXPHgWG-3ZoX",
        "colab_type": "code",
        "colab": {}
      },
      "source": [
        "weekday_order = ['Monday', 'Tuesday', 'Wednesday', 'Thursday', 'Friday', 'Saturday', 'Sunday']\n",
        "\n",
        "df_week_ride = train_df.groupby(['weekday']).mean()[ride_col_list[:-1]].stack().reset_index()\n",
        "df_week_ride.columns = ['weekday', 'ride_time', 'count']\n",
        "\n",
        "df_week_takeoff = train_df.groupby(['weekday']).mean()[takeoff_col_list[:-1]].stack().reset_index()\n",
        "df_week_takeoff.columns = ['weekday', 'takeoff_time', 'count']\n",
        "\n",
        "df_week_ride['order'] = df_week_ride['weekday'].apply(lambda x: weekday_order.index(x))\n",
        "df_week_ride=df_week_ride.sort_values(by=['order'])\n",
        "\n",
        "df_week_takeoff['order'] = df_week_takeoff['weekday'].apply(lambda x: weekday_order.index(x))\n",
        "df_week_takeoff=df_week_takeoff.sort_values(by=['order'])"
      ],
      "execution_count": null,
      "outputs": []
    },
    {
      "cell_type": "code",
      "metadata": {
        "id": "n3n-Vblq3dNl",
        "colab_type": "code",
        "colab": {}
      },
      "source": [
        "#date 변수 변환\n",
        "train_df['date2'] = pd.to_datetime(train_df['date'])\n",
        "test_df['date2']=pd.to_datetime(test_df['date'])\n",
        "train_df['weekday'] = train_df['date2'].dt.weekday #요일별로 변수 변경(train)\n",
        "\n",
        "test_df['date2'] = pd.to_datetime(test_df['date'])\n",
        "test_df['weekday'] = test_df['date2'].dt.weekday #요일별로 변수 변경(test)\n",
        "\n",
        "del train_df['date2'] #임의 컬럼 삭제\n",
        "del test_df['date2']"
      ],
      "execution_count": null,
      "outputs": []
    },
    {
      "cell_type": "code",
      "metadata": {
        "id": "y4j6tcJL3fDv",
        "colab_type": "code",
        "colab": {}
      },
      "source": [
        "#holiday(공휴일) , holiweekend(주말)\n",
        "holidays = ['09-12', '09-13', '09-14', '10-03', '10-09']\n",
        "holidays = ['2019-'+day for day in holidays]\n",
        "\n",
        "train_df['holiday'] = train_df.apply(lambda row: 'Y' if row.date in holidays else 'N', axis=1)\n",
        "train_df['holiweekend'] = train_df.apply(lambda row: 'H' if row.holiday == 'Y' else 'N', axis=1)\n",
        "train_df['holiweekend'] = train_df.apply(lambda row: 'WE' if row.holiweekend =='N' and row.weekday in [5,6] else row.holiweekend, axis=1)\n",
        "\n",
        "test_df['holiday'] = test_df.apply(lambda row: 'Y' if row.date in holidays else 'N', axis=1)\n",
        "test_df['holiweekend'] = test_df.apply(lambda row: 'H' if row.holiday == 'Y' else 'N', axis=1)\n",
        "test_df['holiweekend'] = test_df.apply(lambda row: 'WE' if row.holiweekend =='N' and row.weekday in [5,6] else row.holiweekend, axis=1)"
      ],
      "execution_count": null,
      "outputs": []
    },
    {
      "cell_type": "code",
      "metadata": {
        "id": "C5gQfmZp3jEu",
        "colab_type": "code",
        "colab": {}
      },
      "source": [
        "f, axes = plt.subplots(2, 1, figsize=(30, 10), sharex=True)\n",
        "\n",
        "axes[0].set(title='요일별 승차량 추이')\n",
        "axes[1].set(title='요일별 하차량 추이')\n",
        "\n",
        "sns.boxplot(x='weekday', y='count', data=df_week_ride, ax=axes[0])\n",
        "sns.boxplot(x='weekday', y='count', data=df_week_takeoff, ax=axes[1])"
      ],
      "execution_count": null,
      "outputs": []
    },
    {
      "cell_type": "code",
      "metadata": {
        "id": "yrGzcP1r3kZZ",
        "colab_type": "code",
        "colab": {}
      },
      "source": [
        "train_df['holiweekend']"
      ],
      "execution_count": null,
      "outputs": []
    },
    {
      "cell_type": "code",
      "metadata": {
        "id": "5DnMH13dwO_3",
        "colab_type": "code",
        "colab": {}
      },
      "source": [
        "stn = ['호텔', '공항', '버스터미널', '시청', '대학교', '고등학교', '한라병원']\n",
        "\n",
        "train['new_stn'] = np.nan\n",
        "\n",
        "for i in range(len(train)):\n",
        "    if any(word in train['station_name'][i] for word in stn):\n",
        "        train['new_stn'][i] = 1\n",
        "    else : \n",
        "        train['new_stn'][i] = 0"
      ],
      "execution_count": null,
      "outputs": []
    },
    {
      "cell_type": "code",
      "metadata": {
        "id": "xsT0OWNMx3fX",
        "colab_type": "code",
        "colab": {}
      },
      "source": [
        "train"
      ],
      "execution_count": null,
      "outputs": []
    },
    {
      "cell_type": "code",
      "metadata": {
        "id": "tEQj0V3O3lAf",
        "colab_type": "code",
        "colab": {}
      },
      "source": [
        "# 해당 주요 장소의 임의 지역 위도, 경도 (baseline 참조)\n",
        "\n",
        "jeju=(33.51411, 126.52969) # 제주 측정소 근처\n",
        "gosan=(33.29382, 126.16283) #고산 측정소 근처\n",
        "seongsan=(33.38677, 126.8802) #성산 측정소 근처\n",
        "po=(33.24616, 126.5653) #서귀포 측정소 근처\n",
        "\n",
        "#제주도 지역이 보일 수 있는 위치의 위도, 경도를 표시한 뒤, folium.Map에 변수로 넣고, map_osm에 할당\n",
        "map_osm= folium.Map((33.399835, 126.506031),zoom_start=9)\n",
        "mc = MarkerCluster()\n",
        "\n",
        "mc.add_child( folium.Marker(location=jeju,popup='제주 측정소',icon=folium.Icon(color='red',icon='info-sign') ) ) #제주 측정소 마커 생성\n",
        "map_osm.add_child(mc) #마커를 map_osm에 추가\n",
        "\n",
        "mc.add_child( folium.Marker(location=gosan,popup='고산 측정소',icon=folium.Icon(color='red',icon='info-sign') ) )\n",
        "map_osm.add_child(mc) \n",
        "\n",
        "mc.add_child( folium.Marker(location=seongsan,popup='성산 측정소',icon=folium.Icon(color='red',icon='info-sign') ) )\n",
        "map_osm.add_child(mc) \n",
        "\n",
        "mc.add_child( folium.Marker(location=po,popup='서귀포 측정소',icon=folium.Icon(color='red',icon='info-sign') ) )\n",
        "map_osm.add_child(mc)"
      ],
      "execution_count": null,
      "outputs": []
    },
    {
      "cell_type": "code",
      "metadata": {
        "id": "mnrLAvbS3nBV",
        "colab_type": "code",
        "colab": {}
      },
      "source": [
        "\n",
        "#정류장의 위치만 확인하기 위해 groupby를 실행함\n",
        "data=train[['latitude','longitude','station_name']].drop_duplicates(keep='first')\n",
        "\n",
        "data2=data.groupby(['station_name'])['latitude','longitude'].mean()\n",
        "\n",
        "data2.to_csv(\"folium.csv\")\n",
        "\n",
        "data2=pd.read_csv(\"folium.csv\")\n",
        "\n",
        "#정류장의 대략적인 위치를 확인하기 위하여, folium map에 해당 정류장을 표시\n",
        "for row in data2.itertuples():\n",
        "    mc.add_child(folium.Marker(location=[row.latitude,  row.longitude], popup=row.station_name)) #마커 생성\n",
        "    map_osm.add_child(mc) #마커를 map_osm에 추가\n",
        "    \n",
        "map_osm"
      ],
      "execution_count": null,
      "outputs": []
    },
    {
      "cell_type": "code",
      "metadata": {
        "id": "Z_CCaiMLA4vD",
        "colab_type": "code",
        "colab": {}
      },
      "source": [
        "# latitude / longitude를 묶어줘서 location컬럼 생성.\n",
        "train_df['location'] = train.apply(lambda row: (row.latitude, row.longitude), axis=1)\n",
        "\n",
        "jeju=(33.51411, 126.52969) # 제주 측정소 근처\n",
        "gosan=(33.29382, 126.16283) #고산 측정소 근처\n",
        "seongsan=(33.38677, 126.8802) #성산 측정소 근처\n",
        "po=(33.24616, 126.5653) #서귀포 측정소 근처\n",
        "\n",
        "#정류장의 위치만 확인하기 위해 groupby를 실행함\n",
        "data_loc=train_df[['location','station_name']].drop_duplicates(keep='first')\n",
        "\n",
        "train_df['dist_jj'] = train_df['location'].apply(lambda x: geopy.distance.geodesic( x, jeju).km)\n",
        "print(\"jeju done\", datetime.datetime.now())\n",
        "train_df['dist_gs'] = train_df['location'].apply(lambda x: geopy.distance.geodesic( x, gosan).km)\n",
        "print(\"gosan done\", datetime.datetime.now())\n",
        "train_df['dist_ss'] = train_df['location'].apply(lambda x: geopy.distance.geodesic( x, seongsan).km)\n",
        "print(\"sungsan done\", datetime.datetime.now())\n",
        "train_df['dist_sp'] = train_df['location'].apply(lambda x: geopy.distance.geodesic( x, po).km)\n",
        "print(\"seoguipo done\", datetime.datetime.now())\n",
        "\n",
        "train_df['center_name'] = train_df[['dist_jj', 'dist_gs', 'dist_ss', 'dist_sp']].apply(lambda row: ['dist_jj', 'dist_gs', 'dist_ss', 'dist_sp'][row.argmin()][5:], axis=1)"
      ],
      "execution_count": null,
      "outputs": []
    },
    {
      "cell_type": "code",
      "metadata": {
        "id": "4cB3dijEA5Hn",
        "colab_type": "code",
        "colab": {}
      },
      "source": [
        "# latitude / longitude를 묶어줘서 location컬럼 생성.\n",
        "test_df['location'] = test_df.apply(lambda row: (row.latitude, row.longitude), axis=1)\n",
        "\n",
        "jeju=(33.51411, 126.52969) # 제주 측정소 근처\n",
        "gosan=(33.29382, 126.16283) #고산 측정소 근처\n",
        "seongsan=(33.38677, 126.8802) #성산 측정소 근처\n",
        "po=(33.24616, 126.5653) #서귀포 측정소 근처\n",
        "\n",
        "#정류장의 위치만 확인하기 위해 groupby를 실행함\n",
        "data_loc=test_df[['location','station_name']].drop_duplicates(keep='first')\n",
        "\n",
        "test_df['dist_jj'] = test_df['location'].apply(lambda x: geopy.distance.geodesic( x, jeju).km)\n",
        "print(\"jeju done\", datetime.datetime.now())\n",
        "test_df['dist_gs'] = test_df['location'].apply(lambda x: geopy.distance.geodesic( x, gosan).km)\n",
        "print(\"gosan done\", datetime.datetime.now())\n",
        "test_df['dist_ss'] = test_df['location'].apply(lambda x: geopy.distance.geodesic( x, seongsan).km)\n",
        "print(\"sungsan done\", datetime.datetime.now())\n",
        "test_df['dist_sp'] = test_df['location'].apply(lambda x: geopy.distance.geodesic( x, po).km)\n",
        "print(\"seoguipo done\", datetime.datetime.now())\n",
        "\n",
        "test_df['center_name'] = test_df[['dist_jj', 'dist_gs', 'dist_ss', 'dist_sp']].apply(lambda row: ['dist_jj', 'dist_gs', 'dist_ss', 'dist_sp'][row.argmin()][5:], axis=1)"
      ],
      "execution_count": null,
      "outputs": []
    },
    {
      "cell_type": "markdown",
      "metadata": {
        "id": "z7X6sXCaA44M",
        "colab_type": "text"
      },
      "source": [
        ""
      ]
    },
    {
      "cell_type": "markdown",
      "metadata": {
        "id": "n0sfwQszA4i3",
        "colab_type": "text"
      },
      "source": [
        ""
      ]
    },
    {
      "cell_type": "code",
      "metadata": {
        "id": "qwmj3M3Emjj9",
        "colab_type": "code",
        "colab": {}
      },
      "source": [
        "def split_id(id):\n",
        "  st = str(id)\n",
        "  if '0000' in st:\n",
        "    return st[:-4]\n",
        "  else : return st"
      ],
      "execution_count": null,
      "outputs": []
    },
    {
      "cell_type": "code",
      "metadata": {
        "id": "soMvWrsZm254",
        "colab_type": "code",
        "colab": {}
      },
      "source": [
        "#train_df['bus_route_id'] = train_df['bus_route_id'].apply(lambda x : split_id(x))\n",
        "#train_df['bus_route_id']\n",
        "data_list_df = [bus_bts_df, test_df, train_df, coordinate_jeju_df]\n",
        "for i in data_list_df:\n",
        "  if 'bus_route_id'in i.columns:\n",
        "    i['bus_route_id'] = i['bus_route_id'].apply(lambda x : split_id(x))"
      ],
      "execution_count": null,
      "outputs": []
    },
    {
      "cell_type": "code",
      "metadata": {
        "id": "VqtjfSdBnLOy",
        "colab_type": "code",
        "colab": {}
      },
      "source": [
        "train_df['bus_route_id']"
      ],
      "execution_count": null,
      "outputs": []
    },
    {
      "cell_type": "code",
      "metadata": {
        "id": "yE365C1Ej01N",
        "colab_type": "code",
        "colab": {}
      },
      "source": [
        "print(train_df['bus_route_id'])\n",
        "print(test_df['bus_route_id'])\n",
        "print(bus_bts_df['bus_route_id'])"
      ],
      "execution_count": null,
      "outputs": []
    },
    {
      "cell_type": "code",
      "metadata": {
        "id": "y6LkGD_srlcH",
        "colab_type": "code",
        "colab": {}
      },
      "source": [
        "train_df['bus_route_id'].nunique()"
      ],
      "execution_count": null,
      "outputs": []
    },
    {
      "cell_type": "code",
      "metadata": {
        "id": "YET6t5uLzrL2",
        "colab_type": "code",
        "colab": {}
      },
      "source": [
        "test_df['bus_route_id'].nunique()"
      ],
      "execution_count": null,
      "outputs": []
    },
    {
      "cell_type": "code",
      "metadata": {
        "id": "v_c1O4WYzu6V",
        "colab_type": "code",
        "colab": {}
      },
      "source": [
        "bus_bts_df['bus_route_id'].nunique()"
      ],
      "execution_count": null,
      "outputs": []
    },
    {
      "cell_type": "code",
      "metadata": {
        "id": "5f037xSGzzPF",
        "colab_type": "code",
        "colab": {}
      },
      "source": [
        "# 요일(주중/주말) 및 연휴 여부 추가\n"
      ],
      "execution_count": null,
      "outputs": []
    },
    {
      "cell_type": "markdown",
      "metadata": {
        "id": "fAr9-JLxs9pz",
        "colab_type": "text"
      },
      "source": [
        "## 날씨 데이터 크롤링"
      ]
    },
    {
      "cell_type": "markdown",
      "metadata": {
        "id": "RPTPJgjCP-8L",
        "colab_type": "text"
      },
      "source": [
        "## 2-3. 날씨 컬럼 추가\n",
        "승차량에 영향을 미치는 것은 흔히 강수량, 기온이라고 생각했기 때문에 2개 컬럼 추가."
      ]
    },
    {
      "cell_type": "markdown",
      "metadata": {
        "id": "uDFFa9rJX7eK",
        "colab_type": "text"
      },
      "source": [
        ""
      ]
    },
    {
      "cell_type": "code",
      "metadata": {
        "id": "OMESXe_maHUE",
        "colab_type": "code",
        "colab": {}
      },
      "source": [
        "# 9월값\n",
        "\n",
        "\n",
        "data = []\n",
        "\n",
        "y = 2019\n",
        "m = 9\n",
        "\n",
        "response = requests.get('https://www.weather.go.kr/weather/climate/past_cal.jsp?stn=184&yy=2019&mm=9&x=15&y=6&obs=1')\n",
        "soup = BeautifulSoup(response.content, 'html.parser')\n",
        "table = soup.find('table', {'class': 'table_develop'})  \n",
        "\n",
        "count = 0\n",
        "point = [''] * 7\n",
        "pointt = [''] * 7\n",
        "fstr = [''] * 7\n",
        "tstr = [''] * 7\n",
        "mstr = [''] * 7\n",
        "estr = [''] * 7\n",
        "temp = [''] * 7\n",
        "temptop = [''] * 7\n",
        "tempmin = [''] * 7\n",
        "rain = [''] * 7\n",
        "\n",
        "for tr in table.find_all('tr'):\n",
        "  tds = list(tr.find_all('td'))\n",
        "\n",
        "  if tds:\n",
        "      for i in range(0,7):\n",
        "          point[i] = tds[i].text\n",
        "\n",
        "      if count%2!=0:\n",
        "          for j in range(0,7):\n",
        "              pointt[j] = point[j].translate({ord('일'):''})\n",
        "  \n",
        "      if count%2==0:\n",
        "          for k in range(0,7):\n",
        "              fstr[k] = point[k].find('최고기온')\n",
        "              tstr[k] = point[k].find('최저기온')\n",
        "              mstr[k] = point[k].find('평균운량')\n",
        "              estr[k] = point[k].find('일강수량')\n",
        "              temp[k] = point[k][5:fstr[k]].translate({ord('℃'):''})\n",
        "              temptop[k] = point[k][fstr[k]+5:tstr[k]].translate({ord('℃'):''})\n",
        "              tempmin[k] = point[k][tstr[k]+5:mstr[k]].translate({ord('℃'):''})\n",
        "              rain[k] = point[k][estr[k]+5:].translate({ord(' '):'',ord('-'):'0.0',ord('m'):''})\n",
        "      \n",
        "          if pointt[0]=='\\xa0' or temp[0]=='':\n",
        "              sun = \"\"\n",
        "          else:\n",
        "              if int(pointt[0]) < 10:\n",
        "                sun = str(y)+'-0'+str(m)+'-0'+pointt[0]+' '+temp[0]+' '+temptop[0]+' '+tempmin[0]+' '+rain[0]\n",
        "                data.append([sun])\n",
        "              else :\n",
        "                sun = str(y)+'-0'+str(m)+'-'+pointt[0]+' '+temp[0]+' '+temptop[0]+' '+tempmin[0]+' '+rain[0]\n",
        "                data.append([sun])\n",
        "  \n",
        "          if pointt[1]=='\\xa0' or temp[1]=='':\n",
        "              mon = \"\"\n",
        "          else:\n",
        "              if int(pointt[1]) < 10 :\n",
        "                mon = str(y)+'-0'+str(m)+'-0'+pointt[1]+' '+temp[1]+' '+temptop[1]+' '+tempmin[1]+' '+rain[1]\n",
        "                data.append([mon])\n",
        "              else:\n",
        "                mon = str(y)+'-0'+str(m)+'-'+pointt[1]+' '+temp[1]+' '+temptop[1]+' '+tempmin[1]+' '+rain[1]\n",
        "                data.append([mon])\n",
        "  \n",
        "          if pointt[2]=='\\xa0' or temp[2]=='':\n",
        "              tue = \"\"\n",
        "          else:\n",
        "              if int(pointt[2]) < 10 :\n",
        "                tue = str(y)+'-0'+str(m)+'-0'+pointt[2]+' '+temp[2]+' '+temptop[2]+' '+tempmin[2]+' '+rain[2]\n",
        "                data.append([tue])\n",
        "              else:\n",
        "                tue = str(y)+'-0'+str(m)+'-'+pointt[2]+' '+temp[2]+' '+temptop[2]+' '+tempmin[2]+' '+rain[2]\n",
        "                data.append([tue])\n",
        "  \n",
        "          if pointt[3]=='\\xa0' or temp[3]=='':\n",
        "              wed = \"\"\n",
        "          else:\n",
        "              if int(pointt[3]) < 10 :\n",
        "                wed = str(y)+'-0'+str(m)+'-0'+pointt[3]+' '+temp[3]+' '+temptop[3]+' '+tempmin[3]+' '+rain[3]\n",
        "                data.append([wed])\n",
        "              else:\n",
        "                wed = str(y)+'-0'+str(m)+'-'+pointt[3]+' '+temp[3]+' '+temptop[3]+' '+tempmin[3]+' '+rain[3]\n",
        "                data.append([wed])\n",
        "  \n",
        "          if pointt[4]=='\\xa0' or temp[4]=='':\n",
        "              thu = \"\"\n",
        "          else:\n",
        "              if int(pointt[4]) < 10 :\n",
        "                thu = str(y)+'-0'+str(m)+'-0'+pointt[4]+' '+temp[4]+' '+temptop[4]+' '+tempmin[4]+' '+rain[4]\n",
        "                data.append([thu])\n",
        "              else:\n",
        "                thu = str(y)+'-0'+str(m)+'-'+pointt[4]+' '+temp[4]+' '+temptop[4]+' '+tempmin[4]+' '+rain[4]\n",
        "                data.append([thu])\n",
        "  \n",
        "          if pointt[5]=='\\xa0' or temp[5]=='':\n",
        "              fri = \"\"\n",
        "          else:\n",
        "              if int(pointt[5]) < 10 :\n",
        "                fri = str(y)+'-0'+str(m)+'-0'+pointt[5]+' '+temp[5]+' '+temptop[5]+' '+tempmin[5]+' '+rain[5]\n",
        "                data.append([fri])\n",
        "              else:\n",
        "                fri = str(y)+'-0'+str(m)+'-'+pointt[5]+' '+temp[5]+' '+temptop[5]+' '+tempmin[5]+' '+rain[5]\n",
        "                data.append([fri])\n",
        "  \n",
        "          if pointt[6]=='\\xa0' or temp[6]=='':\n",
        "              sat = \"\"\n",
        "          else:\n",
        "              if int(pointt[6]) < 10 :\n",
        "                sat = str(y)+'-0'+str(m)+'-0'+pointt[6]+' '+temp[6]+' '+temptop[6]+' '+tempmin[6]+' '+rain[6]\n",
        "                data.append([sat])\n",
        "              else:\n",
        "                sat = str(y)+'-0'+str(m)+'-'+pointt[6]+' '+temp[6]+' '+temptop[6]+' '+tempmin[6]+' '+rain[6]\n",
        "                data.append([sat])\n",
        "  \n",
        "          print(sun)\n",
        "          print(mon)\n",
        "          print(tue)\n",
        "          print(wed)\n",
        "          print(thu)\n",
        "          print(fri)\n",
        "          print(sat)\n",
        "  count+=1  "
      ],
      "execution_count": null,
      "outputs": []
    },
    {
      "cell_type": "code",
      "metadata": {
        "id": "ydoNz5VVehbe",
        "colab_type": "code",
        "colab": {}
      },
      "source": [
        ""
      ],
      "execution_count": null,
      "outputs": []
    },
    {
      "cell_type": "code",
      "metadata": {
        "id": "6ghgJ2o0OBXn",
        "colab_type": "code",
        "colab": {}
      },
      "source": [
        "# 10월값\n",
        "y = 2019\n",
        "m = 10\n",
        "\n",
        "response = requests.get('https://www.weather.go.kr/weather/climate/past_cal.jsp?stn=184&yy=2019&mm=10&x=22&y=12&obs=1')\n",
        "soup = BeautifulSoup(response.content, 'html.parser')\n",
        "table = soup.find('table', {'class': 'table_develop'})  \n",
        "\n",
        "count = 0\n",
        "point = [''] * 7\n",
        "pointt = [''] * 7\n",
        "fstr = [''] * 7\n",
        "tstr = [''] * 7\n",
        "mstr = [''] * 7\n",
        "estr = [''] * 7\n",
        "temp = [''] * 7\n",
        "temptop = [''] * 7\n",
        "tempmin = [''] * 7\n",
        "rain = [''] * 7\n",
        "\n",
        "for tr in table.find_all('tr'):\n",
        "    tds = list(tr.find_all('td'))\n",
        "\n",
        "    if tds:\n",
        "        for i in range(0,7):\n",
        "            point[i] = tds[i].text\n",
        "\n",
        "        if count%2!=0:\n",
        "            for j in range(0,7):\n",
        "                pointt[j] = point[j].translate({ord('일'):''})\n",
        "    \n",
        "        if count%2==0:\n",
        "            for k in range(0,7):\n",
        "                fstr[k] = point[k].find('최고기온')\n",
        "                tstr[k] = point[k].find('최저기온')\n",
        "                mstr[k] = point[k].find('평균운량')\n",
        "                estr[k] = point[k].find('일강수량')\n",
        "                temp[k] = point[k][5:fstr[k]].translate({ord('℃'):''})\n",
        "                temptop[k] = point[k][fstr[k]+5:tstr[k]].translate({ord('℃'):''})\n",
        "                tempmin[k] = point[k][tstr[k]+5:mstr[k]].translate({ord('℃'):''})\n",
        "                rain[k] = point[k][estr[k]+5:].translate({ord(' '):'',ord('-'):'0.0',ord('m'):''})\n",
        "        \n",
        "            if pointt[0]=='\\xa0' or temp[0]=='':\n",
        "                sun = \"\"\n",
        "            else:\n",
        "                if int(pointt[0]) < 10:\n",
        "                  sun = str(y)+'-'+str(m)+'-0'+pointt[0]+' '+temp[0]+' '+temptop[0]+' '+tempmin[0]+' '+rain[0]\n",
        "                  data.append([sun])\n",
        "                else :\n",
        "                  sun = str(y)+'-'+str(m)+'-'+pointt[0]+' '+temp[0]+' '+temptop[0]+' '+tempmin[0]+' '+rain[0]\n",
        "                  data.append([sun])\n",
        "    \n",
        "            if pointt[1]=='\\xa0' or temp[1]=='':\n",
        "                mon = \"\"\n",
        "            else:\n",
        "                if int(pointt[1]) < 10 :\n",
        "                  mon = str(y)+'-'+str(m)+'-0'+pointt[1]+' '+temp[1]+' '+temptop[1]+' '+tempmin[1]+' '+rain[1]\n",
        "                  data.append([mon])\n",
        "                else:\n",
        "                  mon = str(y)+'-'+str(m)+'-'+pointt[1]+' '+temp[1]+' '+temptop[1]+' '+tempmin[1]+' '+rain[1]\n",
        "                  data.append([mon])\n",
        "    \n",
        "            if pointt[2]=='\\xa0' or temp[2]=='':\n",
        "                tue = \"\"\n",
        "            else:\n",
        "                if int(pointt[2]) < 10 :\n",
        "                  tue = str(y)+'-'+str(m)+'-0'+pointt[2]+' '+temp[2]+' '+temptop[2]+' '+tempmin[2]+' '+rain[2]\n",
        "                  data.append([tue])\n",
        "                else:\n",
        "                  tue = str(y)+'-'+str(m)+'-'+pointt[2]+' '+temp[2]+' '+temptop[2]+' '+tempmin[2]+' '+rain[2]\n",
        "                  data.append([tue])\n",
        "    \n",
        "            if pointt[3]=='\\xa0' or temp[3]=='':\n",
        "                wed = \"\"\n",
        "            else:\n",
        "                if int(pointt[3]) < 10 :\n",
        "                  wed = str(y)+'-'+str(m)+'-0'+pointt[3]+' '+temp[3]+' '+temptop[3]+' '+tempmin[3]+' '+rain[3]\n",
        "                  data.append([wed])\n",
        "                else:\n",
        "                  wed = str(y)+'-'+str(m)+'-'+pointt[3]+' '+temp[3]+' '+temptop[3]+' '+tempmin[3]+' '+rain[3]\n",
        "                  data.append([wed])\n",
        "    \n",
        "            if pointt[4]=='\\xa0' or temp[4]=='':\n",
        "                thu = \"\"\n",
        "            else:\n",
        "                if int(pointt[4]) < 10 :\n",
        "                  thu = str(y)+'-'+str(m)+'-0'+pointt[4]+' '+temp[4]+' '+temptop[4]+' '+tempmin[4]+' '+rain[4]\n",
        "                  data.append([thu])\n",
        "                else:\n",
        "                  thu = str(y)+'-'+str(m)+'-'+pointt[4]+' '+temp[4]+' '+temptop[4]+' '+tempmin[4]+' '+rain[4]\n",
        "                  data.append([thu])\n",
        "    \n",
        "            if pointt[5]=='\\xa0' or temp[5]=='':\n",
        "                fri = \"\"\n",
        "            else:\n",
        "                if int(pointt[5]) < 10 :\n",
        "                  fri = str(y)+'-'+str(m)+'-0'+pointt[5]+' '+temp[5]+' '+temptop[5]+' '+tempmin[5]+' '+rain[5]\n",
        "                  data.append([fri])\n",
        "                else:\n",
        "                  fri = str(y)+'-'+str(m)+'-'+pointt[5]+' '+temp[5]+' '+temptop[5]+' '+tempmin[5]+' '+rain[5]\n",
        "                  data.append([fri])\n",
        "    \n",
        "            if pointt[6]=='\\xa0' or temp[6]=='':\n",
        "                sat = \"\"\n",
        "            else:\n",
        "                if int(pointt[6]) < 10 :\n",
        "                  sat = str(y)+'-'+str(m)+'-0'+pointt[6]+' '+temp[6]+' '+temptop[6]+' '+tempmin[6]+' '+rain[6]\n",
        "                  data.append([sat])\n",
        "                else:\n",
        "                  sat = str(y)+'-'+str(m)+'-'+pointt[6]+' '+temp[6]+' '+temptop[6]+' '+tempmin[6]+' '+rain[6]\n",
        "                  data.append([sat])\n",
        "    \n",
        "            print(sun)\n",
        "            print(mon)\n",
        "            print(tue)\n",
        "            print(wed)\n",
        "            print(thu)\n",
        "            print(fri)\n",
        "            print(sat)\n",
        "    count+=1  "
      ],
      "execution_count": null,
      "outputs": []
    },
    {
      "cell_type": "code",
      "metadata": {
        "id": "NzC8GncZiFch",
        "colab_type": "code",
        "colab": {}
      },
      "source": [
        "data"
      ],
      "execution_count": null,
      "outputs": []
    },
    {
      "cell_type": "code",
      "metadata": {
        "id": "Yk8rWglhOiRe",
        "colab_type": "code",
        "colab": {}
      },
      "source": [
        "## 10/16까지의 데이터만 추출\n",
        "data = data[:46]"
      ],
      "execution_count": null,
      "outputs": []
    },
    {
      "cell_type": "code",
      "metadata": {
        "id": "j4w7Jo9AOloZ",
        "colab_type": "code",
        "colab": {}
      },
      "source": [
        "#데이터 삽입용의 weather 데이터셋 생성\n",
        "\n",
        "weather = pd.DataFrame(index = range(0, 46), columns=['date', 'min_temp', 'max_temp', 'avg_cloud', 'daily_rain'])\n",
        "\n",
        "for i in range(len(data)):\n",
        "  weather['date'][i] = data[i][0].split(' ')[0]\n",
        "  weather['min_temp'][i] = data[i][0].split(' ')[1]\n",
        "  weather['max_temp'][i] = data[i][0].split(' ')[2]\n",
        "  weather['avg_cloud'][i] = data[i][0].split(' ')[3]\n",
        "  weather['daily_rain'][i] = data[i][0].split(' ')[4]\n",
        "weather = weather.set_index('date')"
      ],
      "execution_count": null,
      "outputs": []
    },
    {
      "cell_type": "code",
      "metadata": {
        "id": "64nzW9m3ef4O",
        "colab_type": "code",
        "colab": {}
      },
      "source": [
        "weather"
      ],
      "execution_count": null,
      "outputs": []
    },
    {
      "cell_type": "code",
      "metadata": {
        "id": "e6zvgBGsv0g5",
        "colab_type": "code",
        "colab": {}
      },
      "source": [
        "weather = weather.groupby('date')[[ 'min_temp', 'max_temp', 'avg_cloud', 'daily_rain']].sum().reset_index()\n",
        "weather"
      ],
      "execution_count": null,
      "outputs": []
    },
    {
      "cell_type": "code",
      "metadata": {
        "id": "Qpr6agP-OuH5",
        "colab_type": "code",
        "colab": {}
      },
      "source": [
        "train_df['date'] = pd.to_datetime(train_df['date'])\n",
        "train_df['weekday'] = train_df['date'].dt.weekday\n",
        "\n",
        "test_df['date'] = pd.to_datetime(test_df['date'])\n",
        "test_df['weekday'] = test_df['date'].dt.weekday\n",
        "\n",
        "train_df.shape, test_df.shape"
      ],
      "execution_count": null,
      "outputs": []
    },
    {
      "cell_type": "code",
      "metadata": {
        "id": "88tkw-kufUJ8",
        "colab_type": "code",
        "colab": {}
      },
      "source": [
        ""
      ],
      "execution_count": null,
      "outputs": []
    },
    {
      "cell_type": "code",
      "metadata": {
        "id": "VH9RDDetOx7K",
        "colab_type": "code",
        "colab": {}
      },
      "source": [
        "train_df['bus_route_id'] = train_df['bus_route_id'].astype(str)\n",
        "train_df['station_code'] = train_df['station_code'].astype(str)\n",
        "#train_df['route_station'] = train_df['bus_route_id'] + ',' + train_df['station_code']\n",
        "\n",
        "test_df['bus_route_id'] = test_df['bus_route_id'].astype(str)\n",
        "test_df['station_code'] = test_df['station_code'].astype(str)\n",
        "#test_df['route_station'] = test_df['bus_route_id'] + ',' + test_df['station_code']\n"
      ],
      "execution_count": null,
      "outputs": []
    },
    {
      "cell_type": "code",
      "metadata": {
        "id": "wiPGFzr_P6Yi",
        "colab_type": "code",
        "colab": {}
      },
      "source": [
        "#weather = weather[['일시','강수량(mm)', '기온(°C)']]\n",
        "#weather.columns = ['date','precipitation','temp']"
      ],
      "execution_count": null,
      "outputs": []
    },
    {
      "cell_type": "code",
      "metadata": {
        "id": "R3xbZgJVP26t",
        "colab_type": "code",
        "colab": {}
      },
      "source": [
        ""
      ],
      "execution_count": null,
      "outputs": []
    },
    {
      "cell_type": "code",
      "metadata": {
        "id": "sOytds-ErKMn",
        "colab_type": "code",
        "colab": {}
      },
      "source": [
        "weather"
      ],
      "execution_count": null,
      "outputs": []
    },
    {
      "cell_type": "code",
      "metadata": {
        "id": "Nemf9jgktVGz",
        "colab_type": "code",
        "colab": {}
      },
      "source": [
        "#datetime 변환\n",
        "weather['date'] = pd.to_datetime( weather['date'] )\n",
        "\n",
        "#train/test기간\n",
        "#weather = weather[(weather['date']>='2019-09-01 00:00:00')<='2019-10-16 23:00:00')].reset_index(drop=True)\n",
        "\n",
        "#weather['hour'] = weather['date'].dt.hour\n",
        "#weather['date'] = weather['date'].dt.date\n",
        "\n",
        "# 해당 날짜의 강수량 : 아침 6시 ~ 12시까지\n",
        "#weather = weather[(weather['hour']>=6)<=12)].reset_index(drop=True) \n",
        "\n",
        "\n",
        "# 6~12시까지의 강수량, 기온를 피쳐로 사용\n",
        "#weather = weather.groupby('date')[['precipitation','temp']].sum().reset_index()\n",
        "#weather.reset_index()\n",
        "weather"
      ],
      "execution_count": null,
      "outputs": []
    },
    {
      "cell_type": "code",
      "metadata": {
        "id": "4iM_tTCQMuCK",
        "colab_type": "code",
        "colab": {}
      },
      "source": [
        "type(train_df['date'][0])"
      ],
      "execution_count": null,
      "outputs": []
    },
    {
      "cell_type": "code",
      "metadata": {
        "id": "wYhmbLzLMy-z",
        "colab_type": "code",
        "colab": {}
      },
      "source": [
        "type(weather['date'][0])"
      ],
      "execution_count": null,
      "outputs": []
    },
    {
      "cell_type": "code",
      "metadata": {
        "id": "j_02Y15Lw722",
        "colab_type": "code",
        "colab": {}
      },
      "source": [
        "weather"
      ],
      "execution_count": null,
      "outputs": []
    },
    {
      "cell_type": "code",
      "metadata": {
        "id": "q8aV1M5ws9KE",
        "colab_type": "code",
        "colab": {}
      },
      "source": [
        "#weather['date'] = pd.to_datetime(weather['date'])"
      ],
      "execution_count": null,
      "outputs": []
    },
    {
      "cell_type": "code",
      "metadata": {
        "id": "DWQ8JLYWtMwO",
        "colab_type": "code",
        "colab": {}
      },
      "source": [
        "#train_df['date'] = pd.to_datetime(train_df['date'])\n",
        "#test_df['date'] = pd.to_datetime(test_df['date'])\n",
        "\n",
        "#데이터 합치기\n",
        "train_df = pd.merge(train_df, weather, on ='date', how='left')\n",
        "test_df = pd.merge(test_df, weather, on ='date', how='left')"
      ],
      "execution_count": null,
      "outputs": []
    },
    {
      "cell_type": "code",
      "metadata": {
        "id": "cRzB0RZ2M50F",
        "colab_type": "code",
        "colab": {}
      },
      "source": [
        "train_df"
      ],
      "execution_count": null,
      "outputs": []
    },
    {
      "cell_type": "code",
      "metadata": {
        "id": "1rgxoXffM8bz",
        "colab_type": "code",
        "colab": {}
      },
      "source": [
        "test_df"
      ],
      "execution_count": null,
      "outputs": []
    },
    {
      "cell_type": "markdown",
      "metadata": {
        "id": "buLvZxDetPSi",
        "colab_type": "text"
      },
      "source": [
        ""
      ]
    },
    {
      "cell_type": "markdown",
      "metadata": {
        "id": "wNDBSE28tgaj",
        "colab_type": "text"
      },
      "source": [
        ""
      ]
    },
    {
      "cell_type": "markdown",
      "metadata": {
        "id": "AuLRH9WMt-Wj",
        "colab_type": "text"
      },
      "source": [
        ""
      ]
    },
    {
      "cell_type": "markdown",
      "metadata": {
        "id": "qhjLod6LMaVy",
        "colab_type": "text"
      },
      "source": [
        ""
      ]
    },
    {
      "cell_type": "markdown",
      "metadata": {
        "id": "btSFeDPUuHVa",
        "colab_type": "text"
      },
      "source": [
        ""
      ]
    },
    {
      "cell_type": "markdown",
      "metadata": {
        "id": "AJ8IJVqG70Xj",
        "colab_type": "text"
      },
      "source": [
        "# weekday(): 요일 반환 (0:월, 1:화, 2:수, 3:목, 4:금, 5:토, 6:일)"
      ]
    },
    {
      "cell_type": "markdown",
      "metadata": {
        "id": "KkvYPNm_7--M",
        "colab_type": "text"
      },
      "source": [
        ""
      ]
    },
    {
      "cell_type": "markdown",
      "metadata": {
        "id": "gvSlflFh8GX-",
        "colab_type": "text"
      },
      "source": [
        "train_df['weekday']"
      ]
    },
    {
      "cell_type": "markdown",
      "metadata": {
        "id": "iBvGL3Mf8JIM",
        "colab_type": "text"
      },
      "source": [
        "test_df['weekday'].unique()"
      ]
    },
    {
      "cell_type": "markdown",
      "metadata": {
        "id": "zFH2haEz8aUh",
        "colab_type": "text"
      },
      "source": [
        "train_df['weekday'].head()"
      ]
    },
    {
      "cell_type": "markdown",
      "metadata": {
        "id": "3Zq89nzx8d_J",
        "colab_type": "text"
      },
      "source": [
        "test_df['weekday'].head()"
      ]
    },
    {
      "cell_type": "markdown",
      "metadata": {
        "id": "0_3xjFFp_TWX",
        "colab_type": "text"
      },
      "source": [
        "# 버스 상하행선 구분"
      ]
    },
    {
      "cell_type": "markdown",
      "metadata": {
        "id": "oP4rtTJw8i4y",
        "colab_type": "text"
      },
      "source": [
        ""
      ]
    },
    {
      "cell_type": "markdown",
      "metadata": {
        "id": "fLYKqi5AAq7N",
        "colab_type": "text"
      },
      "source": [
        "# 교통카드 데이터넷 내 시간 칼럼을 Train 데이터 형식에 맞춰서 변환"
      ]
    },
    {
      "cell_type": "markdown",
      "metadata": {
        "id": "TYgha4xPApFC",
        "colab_type": "text"
      },
      "source": [
        "## 2-4. 승하차 시간 통합 / 시간대별 평균(새벽, 아침, 정오)\n",
        "18-20_ride와 상관관계를 보이는 것은 오전 8-10시, 10-12시의 승차인원이 상관관계를 보임."
      ]
    },
    {
      "cell_type": "code",
      "metadata": {
        "id": "gjaUyP9cWGpU",
        "colab_type": "code",
        "colab": {}
      },
      "source": [
        "train_df['68a']=train_df['6~7_ride']+train_df['7~8_ride'] # 6 ~ 8시 승차인원 (2시간단위로 묶어줌)\n",
        "train_df['810a']=train_df['8~9_ride']+train_df['9~10_ride']\n",
        "train_df['1012a']=train_df['10~11_ride']+train_df['11~12_ride']\n",
        "\n",
        "train_df['68b']=train_df['6~7_takeoff']+train_df['7~8_takeoff'] # 6 ~ 8시 하차인원\n",
        "train_df['810b']=train_df['8~9_takeoff']+train_df['9~10_takeoff']\n",
        "train_df['1012b']=train_df['10~11_takeoff']+train_df['11~12_takeoff']"
      ],
      "execution_count": null,
      "outputs": []
    },
    {
      "cell_type": "code",
      "metadata": {
        "id": "nNrvl-5AHjS7",
        "colab_type": "code",
        "colab": {}
      },
      "source": [
        "#test도 같이 묶어줌.\n",
        "test_df['68a']=test_df['6~7_ride']+test_df['7~8_ride']\n",
        "test_df['810a']=test_df['8~9_ride']+test_df['9~10_ride']\n",
        "test_df['1012a']=test_df['10~11_ride']+test_df['11~12_ride']\n",
        "\n",
        "test_df['68b']=test_df['6~7_takeoff']+test_df['7~8_takeoff']\n",
        "test_df['810b']=test_df['8~9_takeoff']+test_df['9~10_takeoff']\n",
        "test_df['1012b']=test_df['10~11_takeoff']+test_df['11~12_takeoff']"
      ],
      "execution_count": null,
      "outputs": []
    },
    {
      "cell_type": "code",
      "metadata": {
        "id": "p_vi9jg6HkVe",
        "colab_type": "code",
        "colab": {}
      },
      "source": [
        "train_df2=train_df[['68a','810a','1012a','68b','810b','1012b','18~20_ride']]\n",
        "\n",
        "cor=train_df2.corr()\n",
        "\n",
        "sns.set(style=\"white\")\n",
        "mask=np.zeros_like(cor,dtype=np.bool)\n",
        "mask[np.triu_indices_from(mask)]=True\n",
        "\n",
        "f,ax=plt.subplots(figsize=(10,10))\n",
        "cmap=sns.diverging_palette(200,10,as_cmap=True)\n",
        "sns.heatmap(cor,mask=mask,cmap=cmap,center=0,square=True,linewidths=0.5,cbar_kws={\"shrink\":1},annot=True); #히트맵 생성\n",
        "plt.xticks(size=15)\n",
        "plt.yticks(size=15,rotation=0)\n",
        "plt.title(\"Ride & Takeoff COR\",size=30);"
      ],
      "execution_count": null,
      "outputs": []
    },
    {
      "cell_type": "code",
      "metadata": {
        "id": "RV5WQzFFHmHB",
        "colab_type": "code",
        "colab": {}
      },
      "source": [
        "#3가지 시간대로 나눔 : 새벽, 아침, 정오\n",
        "dawn_ride_cols, dawn_takoff_cols = ['6~7_ride','7~8_ride'], ['6~7_takeoff','7~8_takeoff']\n",
        "morning_ride_cols, morning_takeoff_cols = ['8~9_ride','9~10_ride'], ['8~9_takeoff','9~10_takeoff']\n",
        "noon_ride_cols, noon_takeoff_cols = ['10~11_ride','11~12_ride'], ['10~11_takeoff','11~12_takeoff']\n",
        "\n",
        "def divide_time(df):\n",
        "    # 승차\n",
        "    df['dawn_ride'] = df[dawn_ride_cols].sum(axis=1) #새벽\n",
        "    df['morning_ride'] = df[morning_ride_cols].sum(axis=1) #아침\n",
        "    df['noon_ride'] = df[noon_ride_cols].sum(axis=1) #정오\n",
        "    \n",
        "    # 하차\n",
        "    df['dawn_takeoff'] = df[dawn_takoff_cols].sum(axis=1)\n",
        "    df['morning_takeoff'] = df[morning_takeoff_cols].sum(axis=1)\n",
        "    df['noon_takeoff'] = df[noon_takeoff_cols].sum(axis=1)\n",
        "    \n",
        "    # 임의 컬럼 삭제\n",
        "    drop_cols = dawn_ride_cols + morning_ride_cols + noon_ride_cols + dawn_takoff_cols + morning_takeoff_cols + noon_takeoff_cols\n",
        "    df = df.drop(drop_cols, 1)\n",
        "    \n",
        "    return df"
      ],
      "execution_count": null,
      "outputs": []
    },
    {
      "cell_type": "code",
      "metadata": {
        "id": "Q7c8EmtBHn9C",
        "colab_type": "code",
        "colab": {}
      },
      "source": [
        "train_df = divide_time(train_df)\n",
        "test_df = divide_time(test_df)"
      ],
      "execution_count": null,
      "outputs": []
    },
    {
      "cell_type": "code",
      "metadata": {
        "id": "tgxH8XDWHo9W",
        "colab_type": "code",
        "colab": {}
      },
      "source": [
        "# 탑승\n",
        "\n",
        "train_df['avg_dawn_ride'] = train_df.groupby(['date','bus_route_id'])['dawn_ride'].transform('mean') \n",
        "train_df['avg_morning_ride'] = train_df.groupby(['date','bus_route_id'])['morning_ride'].transform('mean') \n",
        "train_df['avg_noon_ride'] = train_df.groupby(['date','bus_route_id'])['noon_ride'].transform('mean') \n",
        "\n",
        "test_df['avg_dawn_ride'] = test_df.groupby(['date','bus_route_id'])['dawn_ride'].transform('mean') \n",
        "test_df['avg_morning_ride'] = test_df.groupby(['date','bus_route_id'])['morning_ride'].transform('mean') \n",
        "test_df['avg_noon_ride'] = test_df.groupby(['date','bus_route_id'])['noon_ride'].transform('mean')  "
      ],
      "execution_count": null,
      "outputs": []
    },
    {
      "cell_type": "code",
      "metadata": {
        "id": "NcjFxMSMHqTo",
        "colab_type": "code",
        "colab": {}
      },
      "source": [
        "# 하차\n",
        "\n",
        "train_df['avg_dawn_takeoff'] = train_df.groupby(['date','bus_route_id'])['dawn_takeoff'].transform('mean') \n",
        "train_df['avg_morning_takeoff'] = train_df.groupby(['date','bus_route_id'])['morning_takeoff'].transform('mean') \n",
        "train_df['avg_noon_takeoff'] = train_df.groupby(['date','bus_route_id'])['noon_takeoff'].transform('mean') \n",
        "\n",
        "test_df['avg_dawn_takeoff'] = test_df.groupby(['date','bus_route_id'])['dawn_takeoff'].transform('mean') \n",
        "test_df['avg_morning_takeoff'] = test_df.groupby(['date','bus_route_id'])['morning_takeoff'].transform('mean') \n",
        "test_df['avg_noon_takeoff'] = test_df.groupby(['date','bus_route_id'])['noon_takeoff'].transform('mean')"
      ],
      "execution_count": null,
      "outputs": []
    },
    {
      "cell_type": "markdown",
      "metadata": {
        "id": "17lK1nPnPh_n",
        "colab_type": "text"
      },
      "source": [
        "## 2.5 categorical mapping & encoding"
      ]
    },
    {
      "cell_type": "code",
      "metadata": {
        "id": "1QoF7tikKWnB",
        "colab_type": "code",
        "colab": {}
      },
      "source": [
        "#시외/시내(카테고리컬) 수치형으로 변환.\n",
        "\n",
        "train_df['in_out'] = train_df['in_out'].map({'시내':0,'시외':1})\n",
        "test_df['in_out'] = test_df['in_out'].map({'시내':0,'시외':1})"
      ],
      "execution_count": null,
      "outputs": []
    },
    {
      "cell_type": "code",
      "metadata": {
        "id": "5p_tuXpTKWy6",
        "colab_type": "code",
        "colab": {}
      },
      "source": [
        "#앞서 만든 weekday 컬럼 원핫인코딩.\n",
        "\n",
        "train_df2 = pd.get_dummies(train_df,columns=['weekday'])\n",
        "test_df2 = pd.get_dummies(test_df,columns=['weekday'])"
      ],
      "execution_count": null,
      "outputs": []
    },
    {
      "cell_type": "code",
      "metadata": {
        "id": "yWqEf4tcKW8b",
        "colab_type": "code",
        "colab": {}
      },
      "source": [
        "#나머지 카테고리컬 라벨인코딩\n",
        "\n",
        "lbl = LabelEncoder()\n",
        "\n",
        "cat_cols = ['bus_route_id', 'station_code', 'station_name', 'holiday', 'holiweekend']\n",
        "\n",
        "for col in tqdm_notebook(cat_cols):\n",
        "    lbl.fit(train_df2[col])\n",
        "    train_df2[col] = lbl.transform(train_df2[col])\n",
        "    \n",
        "for col in tqdm_notebook(cat_cols):\n",
        "    lbl.fit(test_df2[col])\n",
        "    test_df2[col] = lbl.transform(test_df2[col])"
      ],
      "execution_count": null,
      "outputs": []
    },
    {
      "cell_type": "markdown",
      "metadata": {
        "id": "bTDjY6kHPdN2",
        "colab_type": "text"
      },
      "source": [
        "# 3. Modeling"
      ]
    },
    {
      "cell_type": "code",
      "metadata": {
        "id": "m1WTI2hhKXFM",
        "colab_type": "code",
        "colab": {}
      },
      "source": [
        "target_col = '18~20_ride'\n",
        "train_label = train_df2[target_col]\n",
        "\n",
        "train_df_drop = train_df2.drop(['id','date','latitude','longitude','center_name','location'], axis=1)\n",
        "test_df_drop = test_df2.drop(['id','date','latitude','longitude','center_name','location'], axis=1)"
      ],
      "execution_count": null,
      "outputs": []
    },
    {
      "cell_type": "code",
      "metadata": {
        "id": "hyJsaghThL2U",
        "colab_type": "code",
        "colab": {}
      },
      "source": [
        "train_df_drop"
      ],
      "execution_count": null,
      "outputs": []
    },
    {
      "cell_type": "code",
      "metadata": {
        "id": "cC4VN7PBKarE",
        "colab_type": "code",
        "colab": {}
      },
      "source": [
        "train_df_drop = train_df_drop.drop('18~20_ride', axis=1)"
      ],
      "execution_count": null,
      "outputs": []
    },
    {
      "cell_type": "code",
      "metadata": {
        "id": "VhXCb2DZW6bV",
        "colab_type": "code",
        "colab": {}
      },
      "source": [
        " #min_temp, max_temp, avg_cloud, daily_rain\n",
        "#train_df_drop['min_temp'] = pd.to_numeric(train_df_drop['min_temp'])\n",
        "#train_df_drop['max_temp'] = pd.to_numeric(train_df_drop['max_temp'])\n",
        "#train_df_drop['avg_cloud'] = pd.to_numeric(train_df_drop['avg_cloud'])\n",
        "#train_df_drop['daily_rain'] = pd.to_numeric(train_df_drop['daily_rain'])\n",
        "#min_temp, max_temp, avg_cloud, daily_rain\n",
        "df_drop_list = [train_df_drop, test_df_drop]\n",
        "for df in df_drop_list:\n",
        "  for col in df.columns:  \n",
        "    df[col] = pd.to_numeric(df[col])"
      ],
      "execution_count": null,
      "outputs": []
    },
    {
      "cell_type": "code",
      "metadata": {
        "id": "OlNPSeNFhjtP",
        "colab_type": "code",
        "colab": {}
      },
      "source": [
        "train_df_drop"
      ],
      "execution_count": null,
      "outputs": []
    },
    {
      "cell_type": "code",
      "metadata": {
        "id": "u5m6AKuHkiA-",
        "colab_type": "code",
        "colab": {}
      },
      "source": [
        "test_df_drop"
      ],
      "execution_count": null,
      "outputs": []
    },
    {
      "cell_type": "code",
      "metadata": {
        "id": "xxF40OGOX2k-",
        "colab_type": "code",
        "colab": {}
      },
      "source": [
        "type(train_df_drop['daily_rain'][0])"
      ],
      "execution_count": null,
      "outputs": []
    },
    {
      "cell_type": "code",
      "metadata": {
        "id": "ow0XdMvRKay-",
        "colab_type": "code",
        "colab": {}
      },
      "source": [
        "# 각 모델에 대한 oof 정의\n",
        "lgbm_oof_train = np.zeros((train_df_drop.shape[0]))\n",
        "lgbm_oof_test = np.zeros((test_df_drop.shape[0]))\n",
        "\n",
        "# Hyperparameter 정의하기\n",
        "n_splits= 5\n",
        "NUM_BOOST_ROUND = 10000\n",
        "SEED = 777\n",
        "lgbm_param = {'objective':'rmse',\n",
        "              'boosting_type': 'gbdt',\n",
        "              'random_state':777,\n",
        "              'learning_rate':0.1,\n",
        "              'subsample':0.7,\n",
        "              'tree_learner': 'serial',\n",
        "              'colsample_bytree':0.78,\n",
        "              'early_stopping_rounds':50,\n",
        "              'subsample_freq': 1,\n",
        "              'reg_lambda':7,\n",
        "              'reg_alpha': 5,\n",
        "              'num_leaves': 96,\n",
        "              'seed' : SEED\n",
        "            }\n",
        "\n",
        "# Kfold \n",
        "kfolds = KFold(n_splits=n_splits, random_state=777, shuffle=True)\n",
        "\n",
        "# Fold별로 학습진행\n",
        "for ind, (trn_ind, val_ind) in tqdm_notebook(enumerate( kfolds.split( X = train_df_drop, y = train_label ) ) ):\n",
        "    \n",
        "    # train_df/Valid-set을 정의\n",
        "    X_train , y_train = train_df_drop.iloc[trn_ind], train_label[trn_ind]\n",
        "    X_valid , y_valid = train_df_drop.iloc[val_ind], train_label[val_ind]\n",
        "    \n",
        "    # Light GBM\n",
        "    print(\"---trainING---\")\n",
        "    \n",
        "    # dtrain/dvalid 정의\n",
        "    dtrain = lgbm.Dataset(X_train, y_train)\n",
        "    dvalid = lgbm.Dataset(X_valid, y_valid)\n",
        "    \n",
        "    # model 정의&학습\n",
        "    model = lgbm.train(lgbm_param , dtrain, NUM_BOOST_ROUND, \n",
        "                       valid_sets=(dtrain, dvalid), \n",
        "                       valid_names=('train','valid'), \n",
        "                       verbose_eval= 100)\n",
        "    \n",
        "\n",
        "    \n",
        "    lgbm_valid_pred = model.predict(X_valid)\n",
        "    lgbm_test_pred = model.predict(test_df_drop)\n",
        "        \n",
        "    lgbm_oof_train[val_ind] = lgbm_valid_pred\n",
        "    lgbm_oof_test += lgbm_test_pred/ n_splits #Fold한 결과 앙상블(평균)"
      ],
      "execution_count": null,
      "outputs": []
    },
    {
      "cell_type": "code",
      "metadata": {
        "id": "JtGAxE9hKa5g",
        "colab_type": "code",
        "colab": {}
      },
      "source": [
        "from math import sqrt\n",
        "from sklearn.metrics import mean_squared_error\n",
        "\n",
        "print(f\"<Light-GBM> OVERALL RMSE: {sqrt( mean_squared_error( train_label, lgbm_oof_train ))}\")"
      ],
      "execution_count": null,
      "outputs": []
    },
    {
      "cell_type": "code",
      "metadata": {
        "id": "5g1XeurTKfKD",
        "colab_type": "code",
        "colab": {}
      },
      "source": [
        "X_train=train_df_drop2\n",
        "y_train=train_label\n",
        "X_test=test_df\n",
        "\n",
        "X_train.shape, y_train.shape, X_test.shape"
      ],
      "execution_count": null,
      "outputs": []
    },
    {
      "cell_type": "code",
      "metadata": {
        "id": "oJEJ42jb1Hze",
        "colab_type": "code",
        "colab": {}
      },
      "source": [
        "lgbm_test_pred=list(lgbm_test_pred)"
      ],
      "execution_count": null,
      "outputs": []
    },
    {
      "cell_type": "code",
      "metadata": {
        "id": "WsB2YObDKfRh",
        "colab_type": "code",
        "colab": {}
      },
      "source": [
        "submission_sample['18~20_ride'] = lgbm_test_pred"
      ],
      "execution_count": null,
      "outputs": []
    },
    {
      "cell_type": "code",
      "metadata": {
        "id": "hjiHA0h5KfZv",
        "colab_type": "code",
        "colab": {}
      },
      "source": [
        "submission_sample.to_csv('/content/drive/My Drive/Dacon/data13/12day.csv', index = False)"
      ],
      "execution_count": null,
      "outputs": []
    },
    {
      "cell_type": "code",
      "metadata": {
        "id": "tSyAvZcq1pBf",
        "colab_type": "code",
        "colab": {}
      },
      "source": [
        ""
      ],
      "execution_count": null,
      "outputs": []
    }
  ]
}