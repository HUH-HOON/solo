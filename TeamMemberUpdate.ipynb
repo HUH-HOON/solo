{
 "cells": [
  {
   "cell_type": "markdown",
   "metadata": {
    "colab_type": "text",
    "id": "pcgLeUtPpxCD"
   },
   "source": [
    "# 조원 정하기"
   ]
  },
  {
   "cell_type": "markdown",
   "metadata": {
    "colab_type": "text",
    "id": "2xd7zP2BhfBL"
   },
   "source": [
    "### ------는 추가 인원 또는 공란, 배열을 입력 횟수 만큼 섞음 "
   ]
  },
  {
   "cell_type": "code",
   "execution_count": null,
   "metadata": {
    "colab": {},
    "colab_type": "code",
    "id": "ng-3ZvD4s9Ov"
   },
   "outputs": [],
   "source": [
    "import random\n",
    "\n",
    "global member\n",
    "global leader\n",
    "member = ['강두연', '강병성', '김민지', '김인규', '김진세', '김민서','박영민', '배준영', '선종웅', '양주화', '유형준', '윤효상', '이동빈', '이효은', '정신호', '정재엽', '진서윤', '허훈', '홍원기','황정하']\n",
    "leader = ['김보상','신원지','양문일','홍혜린']\n",
    "sorted(member)\n",
    "sorted(leader)\n",
    "print('leaders : ', leader)\n",
    "print('members : ', member)\n",
    "global shuffle_members\n",
    "global shuffle_leaders\n",
    "shuffle_members = member\n",
    "shuffle_leaders = leader\n",
    "#, '______  '"
   ]
  },
  {
   "cell_type": "code",
   "execution_count": null,
   "metadata": {
    "colab": {},
    "colab_type": "code",
    "id": "CIsk8mvpdOnD"
   },
   "outputs": [],
   "source": [
    "def add_name(name, lead_or_mem): # add a new leader or member\n",
    "  lead_or_mem.append(name)\n",
    "  sorted(member)\n",
    "  sorted(leader)\n",
    "  shuffle_members = member\n",
    "  shuffle_leaders = leader\n",
    "  print('members : {}'.format(shuffle_members))\n",
    "  print('leaders : {}'.format(shuffle_leaders))"
   ]
  },
  {
   "cell_type": "code",
   "execution_count": null,
   "metadata": {
    "colab": {},
    "colab_type": "code",
    "id": "Zf97VMe0da13"
   },
   "outputs": [],
   "source": [
    "def delete_member(name, member): # delete member\n",
    "  for n, Name in enumerate(member):\n",
    "    if Name == name :\n",
    "      del member[n]\n",
    "      sorted(member)      \n",
    "      print('members : ', member)      \n",
    "      shuffle_members = member        "
   ]
  },
  {
   "cell_type": "code",
   "execution_count": null,
   "metadata": {
    "colab": {},
    "colab_type": "code",
    "id": "6cUoT9CNmrGn"
   },
   "outputs": [],
   "source": [
    "def delete_leader(name, leader): # delete leader\n",
    "  for n, Name in enumerate(leader):\n",
    "    if Name == name :\n",
    "      del leader[n]\n",
    "      sorted(leader)      \n",
    "      print('leaders : ', leader)      \n",
    "      shuffle_leaders = leader        "
   ]
  },
  {
   "cell_type": "code",
   "execution_count": null,
   "metadata": {
    "colab": {},
    "colab_type": "code",
    "id": "bIuX2wo7ioea"
   },
   "outputs": [],
   "source": [
    "def delete_member_or_leader(name, mem_or_lead): # choose delete mode (member or leader)\n",
    "  if mem_or_lead == leader:\n",
    "    delete_leader(name, mem_or_lead)\n",
    "  elif mem_or_lead == member:\n",
    "    delete_member(name, mem_or_lead)"
   ]
  },
  {
   "cell_type": "code",
   "execution_count": null,
   "metadata": {
    "colab": {},
    "colab_type": "code",
    "id": "DfoyJ1pFT7BQ"
   },
   "outputs": [],
   "source": [
    "def leader_to_member(x): # leader to member\n",
    "  for i, led in enumerate(leader):\n",
    "    if led == x :\n",
    "      member.append(led)\n",
    "      del leader[i]\n",
    "      sorted(leader)\n",
    "      sorted(member)      \n",
    "      print('leaders : ', leader)\n",
    "      print('members : ', member)\n",
    "  shuffle_members = member\n",
    "  shuffle_leaders = leader"
   ]
  },
  {
   "cell_type": "code",
   "execution_count": null,
   "metadata": {
    "colab": {},
    "colab_type": "code",
    "id": "7m51BILBWsM7"
   },
   "outputs": [],
   "source": [
    "def member_to_leader(x): # member to leader\n",
    "  for i, mem in enumerate(member):\n",
    "    if mem == x :\n",
    "      leader.append(mem)\n",
    "      del member[i]\n",
    "      sorted(leader)\n",
    "      sorted(member)      \n",
    "      print('leaders : ', leader)\n",
    "      print('members : ', member)\n",
    "  shuffle_members = member\n",
    "  shuffle_leaders = leader "
   ]
  },
  {
   "cell_type": "code",
   "execution_count": null,
   "metadata": {
    "colab": {},
    "colab_type": "code",
    "id": "PE_pks-iafjC"
   },
   "outputs": [],
   "source": [
    "def exchange(memb, lead): # exchange member to leader\n",
    "  for i, mem in enumerate(member):\n",
    "    if mem == memb :\n",
    "      for j, led in enumerate(leader):\n",
    "        if led == lead :\n",
    "          leader.append(mem)\n",
    "          member.append(led)\n",
    "          del member[i]\n",
    "          del leader[j]            \n",
    "          sorted(leader)\n",
    "          sorted(member)      \n",
    "          print('leaders : ', leader)\n",
    "          print('members : ', member)\n",
    "  shuffle_members = member\n",
    "  shuffle_leaders = leader       "
   ]
  },
  {
   "cell_type": "markdown",
   "metadata": {
    "colab_type": "text",
    "id": "ObBKSRx9P5-Y"
   },
   "source": [
    "# ___현재 전체 인원 확인___"
   ]
  },
  {
   "cell_type": "code",
   "execution_count": null,
   "metadata": {
    "colab": {},
    "colab_type": "code",
    "id": "tKdqQJCtyzUe"
   },
   "outputs": [],
   "source": [
    "print('total members : {} '.format(shuffle_members))\n",
    "print('total leaders : {} '.format(shuffle_leaders))"
   ]
  },
  {
   "cell_type": "markdown",
   "metadata": {
    "colab_type": "text",
    "id": "riqVbWRKxCaG"
   },
   "source": [
    "# ___조장 또는 팀원 추가___"
   ]
  },
  {
   "cell_type": "code",
   "execution_count": null,
   "metadata": {
    "colab": {},
    "colab_type": "code",
    "id": "U3wboBjobwEj"
   },
   "outputs": [],
   "source": [
    "yn = input('Add any members yes(y) or no(n): ')\n",
    "if yn.lower()=='y':\n",
    "  n = input('How many members do you want to add : ')  \n",
    "  for i in range(0,int(n)):\n",
    "    name = input('write name to add : ')\n",
    "    m_or_l = input('member or leader : ')\n",
    "    if str(m_or_l).lower() =='member':\n",
    "      add_name(name, member) \n",
    "    elif str(m_or_l).lower() =='leader':    \n",
    "      add_name(name, leader)\n",
    "    else :\n",
    "      print('fail to add name')\n",
    "else :\n",
    "  print('no added member')"
   ]
  },
  {
   "cell_type": "markdown",
   "metadata": {
    "colab_type": "text",
    "id": "-kHA9aqMxIBW"
   },
   "source": [
    "# ___조장 또는 팀원 삭제___"
   ]
  },
  {
   "cell_type": "code",
   "execution_count": null,
   "metadata": {
    "colab": {},
    "colab_type": "code",
    "id": "Nq8iLFDCnwAm"
   },
   "outputs": [],
   "source": [
    "yn = input('Delete any members yes(y) or no(n): ')\n",
    "if yn.lower()=='y':\n",
    "  n = input('How many members do you want to delete : ')\n",
    "  for i in range(0,int(n)):\n",
    "    name = input('write name to delete : ')\n",
    "    m_or_l = input('member or leader : ')\n",
    "    if str(m_or_l) =='member':\n",
    "      delete_member_or_leader(name, member)\n",
    "    elif str(m_or_l) =='leader':    \n",
    "      delete_member_or_leader(name, leader)\n",
    "    else :\n",
    "      print('fail to delete name')\n",
    "else :\n",
    "  print('no deleted member')"
   ]
  },
  {
   "cell_type": "markdown",
   "metadata": {
    "colab_type": "text",
    "id": "UdNA99vvQAAi"
   },
   "source": [
    "# ___인원 교환 팀장<->팀원___"
   ]
  },
  {
   "cell_type": "code",
   "execution_count": null,
   "metadata": {
    "colab": {},
    "colab_type": "code",
    "id": "Loo56k70xjDb"
   },
   "outputs": [],
   "source": [
    "yn = input('Exchange a member into a leader vice versa yes(y) or no(n): ')\n",
    "if yn.lower()=='y':\n",
    "  n = input('How many times do you exchnage members : ')\n",
    "  for i in range(0,int(n)):\n",
    "    lead = input('write a leader name to exchange into a member : ')\n",
    "    memb = input('write a member name to exchange into a leader : ')\n",
    "    #m_or_l = input('member to leader(1), leader to member(0) : ')\n",
    "    if lead in leader and memb in member:\n",
    "      exchange(memb, lead)    \n",
    "    else :\n",
    "      print('fail to exchange a member & a leader')\n",
    "else :\n",
    "  print('no exchanged member')"
   ]
  },
  {
   "cell_type": "markdown",
   "metadata": {
    "colab_type": "text",
    "id": "NB86xYE6xL4l"
   },
   "source": [
    "# ___조장 또는 팀장 섞는 횟수___"
   ]
  },
  {
   "cell_type": "code",
   "execution_count": null,
   "metadata": {
    "colab": {},
    "colab_type": "code",
    "id": "Q8XA42zMwmnp"
   },
   "outputs": [],
   "source": [
    "x = input('조원 섞는 횟수 : ')\n",
    "for i in range(0,int(x)):\n",
    "  random.shuffle(shuffle_members)\n",
    "y = input('팀장 섞는 횟수 : ')\n",
    "for i in range(0,int(y)):\n",
    "  random.shuffle(shuffle_leaders)"
   ]
  },
  {
   "cell_type": "markdown",
   "metadata": {
    "colab_type": "text",
    "id": "iDU7hbsrxPqh"
   },
   "source": [
    "# ___조장 또는 팀원 출력___"
   ]
  },
  {
   "cell_type": "code",
   "execution_count": null,
   "metadata": {
    "colab": {},
    "colab_type": "code",
    "id": "fNr0KyuWcO6S"
   },
   "outputs": [],
   "source": [
    "print('---------- 조원 ----------')\n",
    "for i, name in enumerate(shuffle_members):\n",
    "  print('{:>10}: {}조'.format(name, i%len(leader)+1))\n",
    "print('---------- 팀장 ----------')\n",
    "for i, name in enumerate(shuffle_leaders):\n",
    "  print('{:>10}: {}조'.format(name, i%len(leader)+1))"
   ]
  },
  {
   "cell_type": "markdown",
   "metadata": {
    "colab_type": "text",
    "id": "XQKFAQbXRaFe"
   },
   "source": [
    "# ___새 팀원 조 배치___"
   ]
  },
  {
   "cell_type": "code",
   "execution_count": null,
   "metadata": {
    "colab": {},
    "colab_type": "code",
    "id": "lajdo9izOPOD"
   },
   "outputs": [],
   "source": [
    "x = input('add a new member')\n",
    "y = random.randrange(1,len(leader)+1)\n",
    "print('{} : {}조'.format(x, y))"
   ]
  },
  {
   "cell_type": "markdown",
   "metadata": {
    "colab_type": "text",
    "id": "KDvZw9J-lxxw"
   },
   "source": [
    "# ___조편성완료___"
   ]
  }
 ],
 "metadata": {
  "colab": {
   "authorship_tag": "ABX9TyOKmvEzMGarxzJTfOGMYiOs",
   "collapsed_sections": [],
   "name": "TeamMemberUpdate.ipynb",
   "private_outputs": true,
   "provenance": []
  },
  "kernelspec": {
   "display_name": "Python 3",
   "language": "python",
   "name": "python3"
  },
  "language_info": {
   "codemirror_mode": {
    "name": "ipython",
    "version": 3
   },
   "file_extension": ".py",
   "mimetype": "text/x-python",
   "name": "python",
   "nbconvert_exporter": "python",
   "pygments_lexer": "ipython3",
   "version": "3.7.6"
  }
 },
 "nbformat": 4,
 "nbformat_minor": 1
}
